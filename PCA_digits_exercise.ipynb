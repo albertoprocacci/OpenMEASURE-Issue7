{
  "cells": [
    {
      "cell_type": "markdown",
      "metadata": {
        "id": "view-in-github",
        "colab_type": "text"
      },
      "source": [
        "<a href=\"https://colab.research.google.com/github/albertoprocacci/OpenMEASURE/blob/master/PCA_digits_exercise.ipynb\" target=\"_parent\"><img src=\"https://colab.research.google.com/assets/colab-badge.svg\" alt=\"Open In Colab\"/></a>"
      ]
    },
    {
      "cell_type": "markdown",
      "id": "b5d2100d",
      "metadata": {
        "id": "b5d2100d"
      },
      "source": [
        "# Exercises on PCA\n",
        "\n",
        "## Exercise 1: Hand-written digits\n",
        "\n",
        "The goal of the exercise is to perform PCA on a dataset containing hand-written digits. \n",
        "The dataset contains 1797 8x8 images of digits in the range 0-9.\n",
        "How can PCA help in the recognition of different digits?"
      ]
    },
    {
      "cell_type": "markdown",
      "id": "3ae6e6c9",
      "metadata": {
        "id": "3ae6e6c9"
      },
      "source": [
        "In the first cell we import the libraries that we are going to use and the digits dataset."
      ]
    },
    {
      "cell_type": "code",
      "execution_count": null,
      "id": "f9c58ab3",
      "metadata": {
        "colab": {
          "base_uri": "https://localhost:8080/"
        },
        "id": "f9c58ab3",
        "outputId": "585f8c9d-383d-4e3f-d713-c9121fd4d87f"
      },
      "outputs": [
        {
          "output_type": "stream",
          "name": "stdout",
          "text": [
            "(1797, 64)\n"
          ]
        }
      ],
      "source": [
        "import numpy as np\n",
        "import matplotlib.pyplot as plt\n",
        "from sklearn.datasets import load_digits\n",
        "\n",
        "digits_images = load_digits().data  # images dataset size 1767x64\n",
        "digits_labels = load_digits().target # images labels size 1767\n",
        "\n",
        "print(digits_images.shape) #check the dimensions\n"
      ]
    },
    {
      "cell_type": "markdown",
      "id": "6f427673",
      "metadata": {
        "id": "6f427673"
      },
      "source": [
        "We can also plot the digits, but first we need to reshape it in a 8x8 image."
      ]
    },
    {
      "cell_type": "code",
      "execution_count": null,
      "id": "d2d0bbf4",
      "metadata": {
        "id": "d2d0bbf4",
        "outputId": "9ab5e82b-1fcb-4859-c03c-8576e90a6da1"
      },
      "outputs": [
        {
          "data": {
            "image/png": "[encoded data removed]",
            "text/plain": [
              "<Figure size 432x288 with 1 Axes>"
            ]
          },
          "metadata": {
            "needs_background": "light"
          },
          "output_type": "display_data"
        },
        {
          "name": "stdout",
          "output_type": "stream",
          "text": [
            "Image index: 0\n"
          ]
        }
      ],
      "source": [
        "# select the index of the digit to show\n",
        "index = 0\n",
        "\n",
        "# select the image and reshape it to show it\n",
        "digit = digits_images[index,:].reshape(8,8)\n",
        "plt.imshow(digit, cmap='Greys')\n",
        "plt.xticks(np.linspace(0, 7, 8))\n",
        "plt.yticks(np.linspace(0, 7, 8))\n",
        "plt.show()\n",
        "\n",
        "# print the label corresponding to the image\n",
        "print(f'Image index: {digits_labels[index]}')\n"
      ]
    },
    {
      "cell_type": "markdown",
      "id": "470cb5a2",
      "metadata": {
        "id": "470cb5a2"
      },
      "source": [
        "Now, we write a function to implement the PCA algorithm. Conventionally, the mean is removed from the dataset before applying PCA. If this is not done, the mean will be the first PC."
      ]
    },
    {
      "cell_type": "code",
      "execution_count": null,
      "id": "559bcdd2",
      "metadata": {
        "colab": {
          "base_uri": "https://localhost:8080/",
          "height": 281
        },
        "id": "559bcdd2",
        "outputId": "f91c9026-0feb-4c7f-bed1-ef73b9add076"
      },
      "outputs": [
        {
          "output_type": "display_data",
          "data": {
            "text/plain": [
              "<Figure size 288x288 with 1 Axes>"
            ],
            "image/png": "[encoded data removed]"
          },
          "metadata": {
            "needs_background": "light"
          }
        }
      ],
      "source": [
        "# To do: implement the PCA algorithm\n",
        "\n",
        "# Hint: The PCA algorithm consists of:\n",
        "# - center the matrix X\n",
        "# - compute the covariance matrix S = 1/(n-1) * (X0.T @ X0)\n",
        "# - compute the eigendecomposition using np.linalg.eig\n",
        "# - sort the eigenvalues using np.sort and np.argsort\n",
        "# - compute the PC scores Z = X @ A\n",
        "\n",
        "def PCA(digits_images):\n",
        "  mean = np.mean(digits_images, axis=0)\n",
        "  X0 = digits_images-mean\n",
        "  n = X0.shape[0]\n",
        "  S = 1/(n-1) * (X0.T @ X0)\n",
        "  l, A = np.linalg.eig(S)\n",
        "  index_sort = np.argsort(-l)\n",
        "  l_sort = l[index_sort]\n",
        "  A_sort = A[:, index_sort]\n",
        "  Z = X0 @ A_sort\n",
        "  return A_sort, Z, l_sort\n",
        "\n",
        "A, Z, l = PCA(digits_images)\n",
        "\n",
        "# Uncomment when you have defined the function PCA\n",
        "# A, Z, l = PCA(digits_images)\n",
        "\n",
        "fig, ax = plt.subplots(figsize=(4,4))\n",
        "ax.scatter(np.linspace(1, 64, 64), l)\n",
        "ax.set_title('PCA eigenvalues')\n",
        "plt.show()"
      ]
    },
    {
      "cell_type": "markdown",
      "id": "4c04cff1",
      "metadata": {
        "id": "4c04cff1"
      },
      "source": [
        "Now, we can perform the PCA and plot the explained variance of the resulting PCs"
      ]
    },
    {
      "cell_type": "code",
      "execution_count": null,
      "id": "8bec782f",
      "metadata": {
        "colab": {
          "base_uri": "https://localhost:8080/",
          "height": 281
        },
        "id": "8bec782f",
        "outputId": "18517df8-1d91-45a1-90a8-d58a69e24176"
      },
      "outputs": [
        {
          "output_type": "display_data",
          "data": {
            "text/plain": [
              "<Figure size 288x288 with 1 Axes>"
            ],
            "image/png": "[encoded data removed]"
          },
          "metadata": {
            "needs_background": "light"
          }
        }
      ],
      "source": [
        "# We import the PCA object from the sklearn package\n",
        "from sklearn.decomposition import PCA\n",
        "\n",
        "# To do: show the explained variance ratio as a function of the principal components\n",
        "\n",
        "# hint: the documentation and examples to use the PCA object are at:\n",
        "# https://scikit-learn.org/stable/modules/generated/sklearn.decomposition.PCA.html\n",
        "\n",
        "\n",
        "pca = PCA()\n",
        "pca.fit(digits_images)\n",
        "\n",
        "# l_sklearn = pca.explained_variance_\n",
        "l_sklearn = pca.explained_variance_ratio_\n",
        "\n",
        "sum_l_sklearn = np.cumsum(l_sklearn)\n",
        "\n",
        "fig, ax = plt.subplots(figsize=(4,4))\n",
        "ax.scatter(np.linspace(1, 64, 64), l_sklearn)\n",
        "ax.scatter(np.linspace(1, 64, 64), sum_l_sklearn)\n",
        "ax.set_title('PCA eigenvalues')\n",
        "plt.show()\n"
      ]
    },
    {
      "cell_type": "markdown",
      "id": "706f512f",
      "metadata": {
        "id": "706f512f"
      },
      "source": [
        "We can also retrieve the PCs (A), and calculate the PC scores (Z)."
      ]
    },
    {
      "cell_type": "code",
      "execution_count": null,
      "id": "b62e3728",
      "metadata": {
        "colab": {
          "base_uri": "https://localhost:8080/",
          "height": 208
        },
        "id": "b62e3728",
        "outputId": "8b04590c-306d-45a8-a294-bf6afd44db42"
      },
      "outputs": [
        {
          "output_type": "display_data",
          "data": {
            "text/plain": [
              "<Figure size 1080x216 with 5 Axes>"
            ],
            "image/png": "[encoded data removed]"
          },
          "metadata": {
            "needs_background": "light"
          }
        }
      ],
      "source": [
        "# To do: calculate the PC matrix A and the PC scores matrix Z. Then plot the first five PCs.\n",
        "\n",
        "# hint: A is equal to the transpose of the attribute \"components_\" of the PCA object and Z = X A\n",
        "\n",
        "# To plot the first five PCs, uncomment the lines below after you have calculated A \n",
        "A = pca.components_.T\n",
        "Z = digits_images @ A\n",
        "\n",
        "n_pcs = 5\n",
        "fig, axs = plt.subplots(1,n_pcs, figsize=(3*n_pcs, 3))\n",
        "for i, ax in enumerate(axs):\n",
        "    ax.imshow(A[:,i].reshape(8,8), cmap='Greys')\n",
        "    ax.set_title('PC ' + str(i+1))\n"
      ]
    },
    {
      "cell_type": "markdown",
      "id": "b38b55eb",
      "metadata": {
        "id": "b38b55eb"
      },
      "source": [
        "We can also check if we can use PCA to achieve dimensionality reduction. This means that we can reconstructed the digits using few PCs."
      ]
    },
    {
      "cell_type": "code",
      "execution_count": null,
      "id": "3155a211",
      "metadata": {
        "colab": {
          "base_uri": "https://localhost:8080/",
          "height": 513
        },
        "id": "3155a211",
        "outputId": "2750f659-5ee4-430a-f450-347e44c40292"
      },
      "outputs": [
        {
          "output_type": "display_data",
          "data": {
            "text/plain": [
              "<Figure size 432x288 with 1 Axes>"
            ],
            "image/png": "[encoded data removed]"
          },
          "metadata": {
            "needs_background": "light"
          }
        },
        {
          "output_type": "display_data",
          "data": {
            "text/plain": [
              "<Figure size 432x288 with 1 Axes>"
            ],
            "image/png": "[encoded data removed]"
          },
          "metadata": {
            "needs_background": "light"
          }
        }
      ],
      "source": [
        "# To do: reconstruct the digit index 0 using the first 20 PCs, and compare it to the original\n",
        "\n",
        "# hint: X_reconstructed = Zq Aq.T \n",
        "\n",
        "q = 5\n",
        "Zq = Z[:, :q]\n",
        "Aq = A[:,:q]\n",
        "\n",
        "X_reconstructed = Zq @ Aq.T\n",
        "\n",
        "index = 0\n",
        "\n",
        "digit = digits_images[index,:].reshape(8,8)\n",
        "digit_reconstructed = X_reconstructed[index, :].reshape(8,8)\n",
        "\n",
        "plt.imshow(digit, cmap='Greys')\n",
        "plt.xticks(np.linspace(0, 7, 8))\n",
        "plt.yticks(np.linspace(0, 7, 8))\n",
        "plt.show()\n",
        "\n",
        "plt.imshow(digit_reconstructed, cmap='Greys')\n",
        "plt.xticks(np.linspace(0, 7, 8))\n",
        "plt.yticks(np.linspace(0, 7, 8))\n",
        "plt.show()\n"
      ]
    },
    {
      "cell_type": "markdown",
      "id": "a56f1a97",
      "metadata": {
        "id": "a56f1a97"
      },
      "source": [
        "Optional: explain what is the difference between using the canonical basis and the PCs to express the images, and why we can reduce the dimensionality with PCA and not with the canonical basis. "
      ]
    },
    {
      "cell_type": "code",
      "execution_count": null,
      "id": "e4eefb88",
      "metadata": {
        "id": "e4eefb88"
      },
      "outputs": [],
      "source": [
        "# To do: show the difference between using the canonical basis and PCs to represent the image of the first digit\n",
        "\n",
        "# Hint: in the canonical basis X[0,:] = W[0,:] @ B.T\n",
        "#       while with PCA it is X[0,:] = Z[0,:] @ A.T   "
      ]
    },
    {
      "cell_type": "markdown",
      "id": "b0c016f3",
      "metadata": {
        "id": "b0c016f3"
      },
      "source": [
        "Optional: Show how the PC scores can be used to cluster the data by plotting the first two vectors of the PC scores (Z)."
      ]
    },
    {
      "cell_type": "code",
      "execution_count": null,
      "id": "e1b996cc",
      "metadata": {
        "id": "e1b996cc"
      },
      "outputs": [],
      "source": [
        "# Uncomment the lines below after you have calculated Z \n",
        "\n",
        "#fig, ax = plt.subplots(figsize=(8,5))\n",
        "#im = ax.scatter(Z[:,0], Z[:,1], c=digits_labels, cmap=plt.cm.get_cmap('tab10', 10), alpha=0.5)\n",
        "#fig.colorbar(im)\n",
        "#plt.show()"
      ]
    }
  ],
  "metadata": {
    "kernelspec": {
      "display_name": "Python 3",
      "language": "python",
      "name": "python3"
    },
    "language_info": {
      "codemirror_mode": {
        "name": "ipython",
        "version": 3
      },
      "file_extension": ".py",
      "mimetype": "text/x-python",
      "name": "python",
      "nbconvert_exporter": "python",
      "pygments_lexer": "ipython3",
      "version": "3.7.9"
    },
    "colab": {
      "provenance": [],
      "include_colab_link": true
    }
  },
  "nbformat": 4,
  "nbformat_minor": 5
}