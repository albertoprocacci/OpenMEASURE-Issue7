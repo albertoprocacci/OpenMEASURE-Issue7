{
 "cells": [
  {
   "cell_type": "markdown",
   "metadata": {},
   "source": [
    "# PyVista tutorial\n",
    "\n",
    "This is a brief tutorial on how to use PyVista for data visualization. This is by no means a comprehensive tutorial on PyVista (and the VTK libraries), but it can offer some ideas on how to use PyVista to visualize data elaborated in Python\n",
    "\n",
    "## Background\n",
    "[PyVista](https://docs.pyvista.org/version/stable/) is basically a Python wrapper of [VTK](https://vtk.org/) (the Visualisation ToolKit), which is a very popular open-source software for manipulation and visualization of scientific data. Although VTK offers a Python wrapper, PyVista is generally much easier to use.\n",
    "\n",
    "VTK is the basis upon which [Paraview](https://www.paraview.org/) is built. Paraview is probably the most famous tool used for post-processing CFD simulations. This means that we should be able to replicate in PyVista everything that we can do in Paraview directly in a Python script.\n",
    "\n",
    "## Extract geometry from Paraview\n",
    "Paraview is also important because it helps us extract the geometry file in a vtk format that can be read by PyVista. Once the simulation's data is loaded in Paraview, the geometry file can be saved by clicking `File > Save Data...`, select `VTK Multi Block Files(*.vtm)` as file type and choose the arrays to save with the geometry as well as the geometry blocks to include.\n",
    "\n",
    "## Example dataset\n",
    "\n",
    "The data and the geometry used in this tutorial are available on [Zenodo](https://www.zenodo.org/record/7786311), and can be downloaded by running the code in the next cell. The grid is already available in the `vtk` format.\n",
    "\n",
    "The command `zenodo_get` can be installed via:\n",
    "```console\n",
    "pip install zenodo_get\n",
    "```\n",
    "Otherwise, the dataset can be downloaded directly from the website."
   ]
  },
  {
   "cell_type": "code",
   "execution_count": null,
   "metadata": {},
   "outputs": [],
   "source": [
    "import zenodo_get\n",
    "\n",
    "! zenodo_get -d 10.5281/zenodo.7786311\n",
    "! unzip DT_dataset.zip"
   ]
  },
  {
   "cell_type": "markdown",
   "metadata": {},
   "source": [
    "## Load a geometry with PyVista\n",
    "\n",
    "For CFD simulations, more often than not your mesh will be of the Unstructured type. This means that we need topological information for each cell to plot the data (which is the reason why PyVista is so helpful when dealing with CFD data).\n",
    "The next cell shows how to load a mesh and print the relevant information.\n"
   ]
  },
  {
   "cell_type": "code",
   "execution_count": 29,
   "metadata": {},
   "outputs": [
    {
     "name": "stdout",
     "output_type": "stream",
     "text": [
      "UnstructuredGrid (0x7fcbefa30460)\n",
      "  N Cells:    191511\n",
      "  N Points:   916290\n",
      "  X Bounds:   -1.588e-07, 3.503e-01\n",
      "  Y Bounds:   -6.344e-05, 3.500e-01\n",
      "  Z Bounds:   -1.500e-01, 7.000e-01\n",
      "  N Arrays:   1\n"
     ]
    }
   ],
   "source": [
    "import pyvista as pv\n",
    "\n",
    "path = './DT_dataset'\n",
    "# read the mesh using Pyvista\n",
    "mesh = pv.read(f'{path}/grid.vtu')\n",
    "print(mesh)\n",
    "\n"
   ]
  },
  {
   "cell_type": "markdown",
   "metadata": {},
   "source": [
    "The grid is of the `UnstructuredGrid` type, and it contains 191511 cells and 916290 points (it is a polyhedral grid). PyVista lets us convert a cell representation into a point representation very easily.\n",
    "\n",
    "The number of arrays tells us how many arrays are stored together with the topological information of the grid. Before applying filters to the data (such as clipping, thresholding, slicing etc.) the data has to be stored into the grid. Then, the filtered information can be retrieved."
   ]
  },
  {
   "cell_type": "markdown",
   "metadata": {},
   "source": [
    "## Plot the mesh\n",
    "\n",
    "Depending on the type of IDE you're using, PyVista lets you dynamically plot the mesh by creating an interactive window. VSCode works really well with PyVista, so I would recommend using it if you need this feature (you may need to install the `trame` python library)."
   ]
  },
  {
   "cell_type": "code",
   "execution_count": null,
   "metadata": {},
   "outputs": [],
   "source": [
    "# plot the mesh in an interactive window\n",
    "mesh.plot(cmap='inferno')"
   ]
  },
  {
   "cell_type": "markdown",
   "metadata": {},
   "source": [
    "By default, PyVista will plot the active array (which is the last array loaded into the grid). In this case, there is only one array loaded, which is the temperature field."
   ]
  },
  {
   "cell_type": "markdown",
   "metadata": {},
   "source": [
    "## Save the plot\n",
    "\n",
    "As in Paraview, you can save a screenshot of the 3D image of the plotted grid by using the `Plotter` class. Or, you can pass the screenshot to a `matplotlib` plot, and save it."
   ]
  },
  {
   "cell_type": "code",
   "execution_count": null,
   "metadata": {},
   "outputs": [],
   "source": [
    "import matplotlib.pyplot as plt\n",
    "\n",
    "plotter = pv.Plotter()\n",
    "plotter.add_mesh(mesh)\n",
    "plotter.show(screenshot='screenshot_pv.png')\n",
    "\n",
    "plt.imshow(plotter.image)\n",
    "plt.savefig('screenshot_plt.png')\n",
    "plt.show()"
   ]
  },
  {
   "cell_type": "markdown",
   "metadata": {},
   "source": [
    "This method is very simple in itself, but it's very hard to produce high quality images (especially getting the camera in a good position is challenging). For this reason, I recommend extracting the information first with PyVista, and then use Matplotlib to plot the information.\n",
    "\n",
    "## Plotting with Matplotlib\n",
    "\n",
    "For example, if we want to plot a slice of a 3D grid, we can use the `slice` operation in PyVista, and then plot the data with the `tricontourf` command in Matplotlib.\n",
    "\n",
    "In the next cell we plot a slice on the surface (x,z) of the furnace."
   ]
  },
  {
   "cell_type": "code",
   "execution_count": 12,
   "metadata": {},
   "outputs": [
    {
     "data": {
      "image/png": "[encoded data removed]",
      "text/plain": [
       "<Figure size 360x360 with 1 Axes>"
      ]
     },
     "metadata": {
      "needs_background": "light"
     },
     "output_type": "display_data"
    }
   ],
   "source": [
    "normal = (0, 1, 0) # the normal of the slicing plane is along y\n",
    "origin = (0.0, 1.0e-3, 0) # the origin has to be inside the mesh\n",
    "\n",
    "# the slicing operation can be done only to point data, so we need to convert the \n",
    "# cell data to point data with .ctp().\n",
    "# We generate the triangles because we are going to use this info in the \n",
    "# tricontourf function.\n",
    "plane = mesh.ctp().slice(normal=normal, origin=origin, generate_triangles=True)\n",
    "\n",
    "x = plane.points # the coordinates of the points\n",
    "tri = plane.faces.reshape((-1,4))[:, 1:] # the connectivity of the triangles\n",
    "\n",
    "fig, ax = plt.subplots(figsize=(5,5))\n",
    "\n",
    "# We pass to trincontourf the points, the triangles and the array to plot (temperature)\n",
    "cs = ax.tricontourf(x[:,0], x[:,2], tri, plane.active_scalars, cmap='viridis')\n",
    "\n",
    "ax.set_aspect('equal')\n",
    "ax.set_xlabel(f'x (m)')\n",
    "ax.set_ylabel(f'z (m)')\n",
    "\n",
    "plt.show()"
   ]
  },
  {
   "cell_type": "markdown",
   "metadata": {},
   "source": [
    "## Storing new data in the grid\n",
    "\n",
    "If we need to plot new information on the same grid, we need first to store this information in the grid and then apply the filter. We can do that simply by assigning the new data as a numpy array to the mesh object. Based on the number of scalars in the numpy array, PyVista will automatically understand if the new array is a cell array or a point array.\n",
    "\n",
    "First, we have to read the simulations."
   ]
  },
  {
   "cell_type": "code",
   "execution_count": 16,
   "metadata": {},
   "outputs": [
    {
     "name": "stdout",
     "output_type": "stream",
     "text": [
      "Simulation 45/45\r"
     ]
    }
   ],
   "source": [
    "import numpy as np\n",
    "from scipy.interpolate import griddata\n",
    "import pandas as pd\n",
    "import glob\n",
    "\n",
    "# The simulations with different inlet diameter use different grids.\n",
    "# We interpolate them on the coarsest grid, which is the one for D=25mm.\n",
    "def read_simulation(filepath):\n",
    "    sim = np.array(pd.read_csv(filepath))\n",
    "    xyz = np.array(sim[:,1:4])\n",
    "\n",
    "    column = np.empty((n, ))\n",
    "    for i, f in enumerate(features):\n",
    "        if xyz.shape[0] != n_cells:\n",
    "            column[i*n_cells:(i+1)*n_cells] = griddata(xyz, sim[:,4+i], xyz_25, method='nearest')\n",
    "        else:\n",
    "            column[i*n_cells:(i+1)*n_cells] = sim[:,4+i]\n",
    "\n",
    "    return column\n",
    "\n",
    "# These are the parameters of the simulations\n",
    "P_df = pd.read_csv(f'{path}/cases_parameters.csv')\n",
    "P = np.array(P_df.iloc[:,2:]) \n",
    "m = P.shape[0]\n",
    "\n",
    "# These are the features of the simulations\n",
    "features = ['NOx', 'CO', 'OH', 'H2', 'H2O', 'CO2', 'O2', 'CH4', 'T']\n",
    "n_features = len(features)\n",
    "\n",
    "filepath = glob.glob(f'{path}/Numerical_data/Case6_*')\n",
    "xyz_25 = np.array(pd.read_csv(filepath[0]).iloc[:,1:4])\n",
    "n_cells = xyz_25.shape[0]\n",
    "\n",
    "n = n_features*n_cells\n",
    "X = np.empty((n,m))\n",
    "for i in range(P_df.shape[0]):\n",
    "    filepath =  glob.glob(f'{path}/Numerical_data/Case{P_df.iloc[i,1]}_*')\n",
    "    X[:,i] = read_simulation(filepath[0])\n",
    "    print(f'Simulation {i+1}/{m}', end='\\r', flush=True)"
   ]
  },
  {
   "cell_type": "markdown",
   "metadata": {},
   "source": [
    "Then we store the OH field of one of the simulation in the mesh object and we plot it as before."
   ]
  },
  {
   "cell_type": "code",
   "execution_count": 30,
   "metadata": {},
   "outputs": [
    {
     "data": {
      "image/png": "[encoded data removed]",
      "text/plain": [
       "<Figure size 360x360 with 1 Axes>"
      ]
     },
     "metadata": {
      "needs_background": "light"
     },
     "output_type": "display_data"
    }
   ],
   "source": [
    "feature = 'OH' # the feature to plot\n",
    "i_feature = features.index(feature)\n",
    "\n",
    "# We store the field as 'z'\n",
    "z = X[i_feature*n_cells:(i_feature+1)*n_cells, 0]\n",
    "mesh['z'] = z\n",
    "\n",
    "normal = (0, 1, 0)\n",
    "origin = (0.0, 1.0e-3, 0) \n",
    "plane = mesh.ctp().slice(normal=normal, origin=origin, generate_triangles=True)\n",
    "x = plane.points \n",
    "tri = plane.faces.reshape((-1,4))[:, 1:]\n",
    "\n",
    "fig, ax = plt.subplots(figsize=(5,5))\n",
    "\n",
    "# We retrieve the information as plane['z]\n",
    "cs = ax.tricontourf(x[:,0], x[:,2], tri, plane['z'], cmap='viridis')\n",
    "\n",
    "ax.set_aspect('equal')\n",
    "ax.set_xlabel(f'x (m)')\n",
    "ax.set_ylabel(f'z (m)')\n",
    "\n",
    "plt.show()"
   ]
  },
  {
   "cell_type": "markdown",
   "metadata": {},
   "source": [
    "## 3D contours\n",
    "\n",
    "Sometimes (especially for presentations) is useful to compute 3-dimensional contours of the data. We can do that using the `contour` function."
   ]
  },
  {
   "cell_type": "code",
   "execution_count": 65,
   "metadata": {},
   "outputs": [],
   "source": [
    "feature = 'T' # the feature to plot\n",
    "i_feature = features.index(feature)\n",
    "\n",
    "# We store the field as 'z'\n",
    "z = X[i_feature*n_cells:(i_feature+1)*n_cells, 0]\n",
    "mesh['z'] = z\n",
    "mesh_rot = mesh.rotate_z(150).rotate_y(-10)\n",
    "contour = mesh_rot.ctp().contour(np.linspace(1400, mesh['z'].max(), 10), scalars='z')\n",
    "\n",
    "pl = pv.Plotter(off_screen=True)\n",
    "pl.add_mesh(contour, opacity=0.7, lighting=False, show_scalar_bar=False, cmap='plasma')\n",
    "pl.add_mesh(mesh_rot, color='w', opacity=0.2)  \n",
    "pl.set_background('w')\n",
    "pl.show(screenshot='countours_pv.png')"
   ]
  },
  {
   "cell_type": "code",
   "execution_count": 72,
   "metadata": {},
   "outputs": [
    {
     "data": {
      "image/png": "[encoded data removed]",
      "text/plain": [
       "<Figure size 432x432 with 1 Axes>"
      ]
     },
     "metadata": {
      "needs_background": "light"
     },
     "output_type": "display_data"
    }
   ],
   "source": [
    "fig = plt.figure(figsize=(6,6))\n",
    "ax = fig.add_subplot(projection='3d')\n",
    "\n",
    "\n",
    "ax.scatter(contour.points[:,0], contour.points[:,1], \n",
    "           contour.points[:,2], c=contour['z'], cmap='plasma', s=1, marker='.', alpha=0.7)\n",
    "\n",
    "ax.set_xlabel('$x (m)$')\n",
    "ax.set_ylabel('$y (m)$')\n",
    "ax.set_zlabel('$z (m)$')\n",
    "\n",
    "ax.w_xaxis.set_pane_color((1.0, 1.0, 1.0, 1.0))\n",
    "ax.w_yaxis.set_pane_color((1.0, 1.0, 1.0, 1.0))\n",
    "ax.w_zaxis.set_pane_color((1.0, 1.0, 1.0, 1.0))\n",
    "ax.grid(False)\n",
    "\n",
    "ax.view_init(elev=25, azim=-80)\n",
    "plt.show()"
   ]
  }
 ],
 "metadata": {
  "kernelspec": {
   "display_name": "env_ml2",
   "language": "python",
   "name": "python3"
  },
  "language_info": {
   "codemirror_mode": {
    "name": "ipython",
    "version": 3
   },
   "file_extension": ".py",
   "mimetype": "text/x-python",
   "name": "python",
   "nbconvert_exporter": "python",
   "pygments_lexer": "ipython3",
   "version": "3.9.16"
  }
 },
 "nbformat": 4,
 "nbformat_minor": 2
}
