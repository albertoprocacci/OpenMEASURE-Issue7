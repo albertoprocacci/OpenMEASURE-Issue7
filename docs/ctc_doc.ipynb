{
 "cells": [
  {
   "attachments": {},
   "cell_type": "markdown",
   "id": "ef0cdd93",
   "metadata": {},
   "source": [
    "# Computational Tomography of Chemiluminescence using Sparse Sensing\n",
    "\n",
    "## CTC\n",
    "\n",
    "The CTC problem is essentially an inversion problem in which the objective is to reconstruct the 3D field $\\bm{f}(x_f,y_f,z_f)$, given its projection on the camera sensor $\\bm{p}(x_p,y_p)$ and the point spread function $\\bm{C}(x_f,y_f,z_f,x_p,y_p)$ that relates the amount of light produced by a point source onto the sensor’s plane:\n",
    "\n",
    "\\begin{equation}\n",
    "    \\bm{p} = \\bm{C} \\bm{f},\n",
    "\\end{equation}\n",
    "where $\\bm{p}$ has dimensions $s \\times 1$,  $\\bm{f}$ has dimensions $n \\times 1$ and $\\bm{C}$ has dimensions $s \\times n$.\n",
    "\n",
    "<img src=\"https://drive.google.com/uc?id=1AHlm65f7TyGXlp_vChfXMIYJaXPptuHC\" alt=\"CTC diagram\" style=\"height: 300px; width:600px;\"/>\n",
    "\n",
    "The figure shows a schematic representation of the CTC mathematical framework. In computed tomography, $\\bm{f}$ is usually discretized into $n$ voxels and the light emitted from each voxel is focused by the camera system onto the sensor’s plane. \n",
    "The size $s$ of $\\bm{p}$ depends on the number of pixels in the $x_p$ and $y_p$ directions, as well as on the number of images taken, such that $s=n_{x_p} \\times n_{y_p} \\times n_i$.\n",
    "\n",
    "The point spread function depends only on the position and characteristics of the camera system. The computation of $\\bm{C}$ is essentially a ray-tracing problem, where the objective is to compute the light's path from the source to the observer. \n",
    "The size of $\\bm{C}$ can quickly become computationally challenging. For example, if the system is discretized using $n = 64 \\times 64 \\times 64$ and the resolution of the sensor is $512 \\times 512$ with 5 cameras installed, the size of $\\bm{C} = s \\times n = 389120 \\times 262144$.\n",
    "However, $\\bm{C}$ is a sparse matrix, and this characteristic can be exploited to reduce the computational and storage requirements.\n",
    "\n",
    "## CTC with Sparse Sensing\n",
    "\n",
    "The first step in the sparse sensing algorithm is to reduce the dimensionality of the system’s state $\\bm{f}$ by finding a transforming basis $\\bm{\\Phi}_r$, such that:\n",
    "\\begin{equation}\n",
    "    \\bm{f} = \\bm{\\Phi}_r \\bm{\\psi},\n",
    "\\end{equation}\n",
    "where $\\bm{\\Phi}_r$ has dimensions $n \\times r$, $\\bm{\\psi}$ has dimensions $r \\times 1$ and the size $r$ of the low-dimensional vector $\\bm{\\psi}$ is generally much smaller than $n$.\n",
    "\n",
    "To compute the POD basis, we can employ the Singular Value Decomposition (SVD):\n",
    "\n",
    "\\begin{equation}\n",
    "    \\bm{F}(\\bm{r}, t) = \\bm{U}(\\bm{r}) \\bm{\\Sigma} \\bm{V}^T (t)\n",
    "\\end{equation}\n",
    "\n",
    "The matrix $\\bm{F}$ contains $m$ system’s states $\\bm{f}$ arranged as column vectors. In our case, $\\bm{F}$ includes multiple timesteps of the 3D chemiluminescence field. The matrix $\\bm{U}$ contains the spatial modes, while the matrix $\\bm{V}$ contains the POD temporal coefficients. The matrix $\\bm{\\Sigma}$ is a diagonal matrix containing the singular values, which are a measure of the amount of information captured by each mode. \n",
    "\n",
    "The linear system can be then rewritten as:\n",
    "\n",
    "\\begin{equation}\n",
    "    \\bm{p} = \\bm{C} \\bm{f} = \\bm{C} \\bm{U}_r \\bm{a} = \\bm{\\Theta} \\bm{a},\n",
    "\\end{equation}\n",
    "\n",
    "where $\\bm{a}$ is the low-dimensional POD projection of $\\bm{f}$, and $\\bm{U}_r$ is the $r$-order truncation of the matrix $\\bm{U}$. The matrix $\\bm{\\Theta}$ has dimensions $s \\times r$, and the conditioning number of this matrix is much lower than the conditioning number of the matrix $\\bm{C}$, provided that some conditions between the placement of sensors with respect to the POD modes are met. This means that the new linear system can be solved by inverting the matrix $\\bm{\\Theta}$, using conventional approaches such as least-squares regression. \n",
    "\n",
    "To improve the prediction accuracy of the low-dimensional projection, physical constraints such as positivity can be introduced, so that the constrained objective function becomes:\n",
    "\\begin{align}\n",
    "\\begin{split}\n",
    "\\bm{a}^* = \\underset{\\bm{a}}{\\textrm{argmin}}  & \\  \\mid \\mid \\bm{y} - \\bm{\\Theta} \\bm{a} \\mid \\mid ^2_2, \\\\\n",
    "\\textrm{s.t.}  & \\  \\bm{U}_r \\bm{a} > 0.\n",
    "\\end{split}\n",
    "\\end{align}\n",
    "Once the low-dimensional vector $\\bm{a}^*$ has been computed, the chemiluminescence field can be reconstructed as:\n",
    "\\begin{equation}\n",
    "    \\bm{f} = \\bm{U}_r \\bm{a}^*\n",
    "\\end{equation}"
   ]
  },
  {
   "cell_type": "markdown",
   "id": "de83018c",
   "metadata": {},
   "source": [
    "## Example\n",
    "\n",
    "The first cell is used to download the dataset from zenodo using the ```zenodo_get ``` command. This command can be installed via:\n",
    "```console\n",
    "pip install zenodo_get\n",
    "```\n",
    "Otherwise, the dataset can be downloaded directly from [zenodo](https://www.zenodo.org/record/7786311)."
   ]
  },
  {
   "cell_type": "code",
   "execution_count": 1,
   "id": "50f7d974",
   "metadata": {},
   "outputs": [
    {
     "name": "stdout",
     "output_type": "stream",
     "text": [
      "Title: Numerical simulations and experimental measurements of the ULB semi-industrial furnace for the development of a Digital Twin\n",
      "Keywords: Digital Twin, Flameless combustion, Furnace, CFD, Temperature measurements\n",
      "Publication date: 2023-08-30\n",
      "DOI: 10.5281/zenodo.8300372\n",
      "Total size: 748.7 MB\n",
      "\n",
      "Link: https://zenodo.org/api/files/90435c77-6765-4d50-b5c2-96155fcc0c6a/DT_dataset.zip   size: 748.7 MB\n",
      "100% [..................................................] 785063300 / 785063300\n",
      "Checksum is correct. (c9aeb72b44088a7cc53c7470d3d435f6)\n",
      "All files have been downloaded.\n",
      "Archive:  DT_dataset.zip\n",
      "   creating: DT_dataset/\n",
      "   creating: DT_dataset/Numerical_data/\n",
      "  inflating: __MACOSX/DT_dataset/._Numerical_data  \n",
      "  inflating: DT_dataset/.DS_Store    \n",
      "  inflating: __MACOSX/DT_dataset/._.DS_Store  \n",
      "  inflating: DT_dataset/grid.vtu     \n",
      "  inflating: __MACOSX/DT_dataset/._grid.vtu  \n",
      "  inflating: DT_dataset/cases_parameters.csv  \n",
      "  inflating: __MACOSX/DT_dataset/._cases_parameters.csv  \n",
      "  inflating: DT_dataset/README.txt   \n",
      "  inflating: __MACOSX/DT_dataset/._README.txt  \n",
      "   creating: DT_dataset/Experimenta_data/\n",
      "  inflating: DT_dataset/Numerical_data/Case44_20mm_0_17_H2_0_73phi_end_nox  \n",
      "  inflating: DT_dataset/Numerical_data/Case37_25mm_0_65H2_0_84phi_end_nox  \n",
      "  inflating: DT_dataset/Numerical_data/Case31_16mm_0_60H2_0_75phi_end_nox  \n",
      "  inflating: DT_dataset/Numerical_data/Case22_20mm_0_8H2_0_82phi_end_nox  \n",
      "  inflating: DT_dataset/Numerical_data/Case7_20mm_0_45_H2_0_72phi_end_nox  \n",
      "  inflating: DT_dataset/Numerical_data/Case12_16mm_0_60H2_0_93phi_end_nox  \n",
      "  inflating: DT_dataset/Numerical_data/Case34_16mm_0_40H2_0_90phi_end_nox  \n",
      "  inflating: DT_dataset/Numerical_data/Case11_20mm_0_30H2_0_89phi_end_nox  \n",
      "  inflating: DT_dataset/Numerical_data/Case23_16mm_0_30H2_0_78phi_end_nox  \n",
      "  inflating: DT_dataset/Numerical_data/Case3_20mm_0_9H2_0_85phi_end_nox  \n",
      "  inflating: DT_dataset/Numerical_data/Case39_25mm_0_45H2_0_85phi_end_nox  \n",
      "  inflating: DT_dataset/Numerical_data/Case19_20mm_0_15H2_0_97phi_end_nox  \n",
      "  inflating: DT_dataset/Numerical_data/Case24_16mm_0_05H2_0_83phi_end_nox  \n",
      "  inflating: DT_dataset/Numerical_data/Case14_20mm_0_10H2_0_88phi_end_nox  \n",
      "  inflating: DT_dataset/Numerical_data/Case25_25mm_0_80H2_0_76phi_end_nox  \n",
      "  inflating: DT_dataset/Numerical_data/Case1_20mm_0_6H2_0_88phi_end_nox  \n",
      "  inflating: DT_dataset/Numerical_data/Case41_16mm_0_90H2_0_87phi_end_nox  \n",
      "  inflating: DT_dataset/Numerical_data/Case33_25mm_0_80H2_0_90phi_end_nox  \n",
      "  inflating: DT_dataset/Numerical_data/Case27_25mm_0_20H2_0_76phi_end_nox  \n",
      "  inflating: DT_dataset/Numerical_data/Case6_25mm_0_70H2_0_94phi_end_nox  \n",
      "  inflating: DT_dataset/Numerical_data/Case17_16mm_0_50H2_0_99phi_end_nox  \n",
      "  inflating: DT_dataset/Numerical_data/Case40_16mm_0_20H2_0_73phi_end_nox  \n",
      "  inflating: DT_dataset/Numerical_data/Case29_25mm_0_25H2_0_85phi_end_nox  \n",
      "  inflating: DT_dataset/Numerical_data/Case46_25mm_0_11H2_0_96phi_end_nox  \n",
      "  inflating: DT_dataset/Numerical_data/Case42_16mm_0_30H2_0_97phi_end_nox  \n",
      "  inflating: DT_dataset/Numerical_data/Case43_20mm_0_50H2_0_95phi_end_nox  \n",
      "  inflating: DT_dataset/Numerical_data/Case15_25mm_0_90H2_0_74phi_end_nox  \n",
      "  inflating: DT_dataset/Numerical_data/Case28_20mm_0_50H2_0_83phi_end_nox  \n",
      "  inflating: DT_dataset/Numerical_data/Case10_20mm_0_75H2_0_98phi_end_nox  \n",
      "  inflating: DT_dataset/Numerical_data/Case38_16mm_0_80H2_0_96phi_end_nox  \n",
      "  inflating: DT_dataset/Numerical_data/Case2_20mm_0_45H2_0_8phi_end_nox  \n",
      "  inflating: DT_dataset/Numerical_data/Case45_20mm_0_9H2_0_70phi_end_nox  \n",
      "  inflating: DT_dataset/Numerical_data/Case8_25mm_0_65H2_0_91phi_end_nox  \n",
      "  inflating: DT_dataset/Numerical_data/Case21_25mm_0_95H2_0_90phi_end_nox  \n",
      "  inflating: DT_dataset/Numerical_data/Case30_20mm_0_20H2_0_80phi_end_nox  \n",
      "  inflating: DT_dataset/Numerical_data/Case5_20mm_0_H2_0_72phi_end_nox  \n",
      "  inflating: DT_dataset/Numerical_data/Case9_16mm_0_7H2_0_78phi_end_nox  \n",
      "  inflating: DT_dataset/Numerical_data/Case47_25mm_0_54H2_0_74phi_end_nox  \n",
      "  inflating: DT_dataset/Numerical_data/Case32_25mm_0_40H2_0_95phi_end_nox  \n",
      "  inflating: DT_dataset/Numerical_data/Case16_20mm_0_85H2_0_95phi_end_nox  \n",
      "  inflating: DT_dataset/Numerical_data/Case4_16mm_0_55H2_0_86phi_end_nox  \n",
      "  inflating: DT_dataset/Numerical_data/Case26_25mm_0_35H2_0_73phi_end_nox  \n",
      "  inflating: DT_dataset/Numerical_data/Case13_20mm_0_95H2_0_96phi_end_nox  \n",
      "  inflating: DT_dataset/Numerical_data/Case18_16mm_0_10H2_0_94phi_end_nox  \n",
      "  inflating: DT_dataset/Numerical_data/Case20_20mm_0_35_H2_0_70phi_end_nox  \n",
      "  inflating: DT_dataset/Experimenta_data/case12.csv  \n",
      "  inflating: __MACOSX/DT_dataset/Experimenta_data/._case12.csv  \n",
      "  inflating: DT_dataset/Experimenta_data/case23.csv  \n",
      "  inflating: __MACOSX/DT_dataset/Experimenta_data/._case23.csv  \n",
      "  inflating: DT_dataset/Experimenta_data/case24.csv  \n",
      "  inflating: __MACOSX/DT_dataset/Experimenta_data/._case24.csv  \n"
     ]
    }
   ],
   "source": [
    "import zenodo_get\n",
    "\n",
    "! zenodo_get -d 10.5281/zenodo.7786311\n",
    "! unzip DT_dataset.zip"
   ]
  },
  {
   "cell_type": "markdown",
   "id": "a64ed71e",
   "metadata": {},
   "source": [
    "Here we import some libraries and we create the data matrix `X` that contains the 45 simulations."
   ]
  },
  {
   "cell_type": "code",
   "execution_count": 1,
   "id": "d41d5e88",
   "metadata": {},
   "outputs": [
    {
     "name": "stdout",
     "output_type": "stream",
     "text": [
      "Simulation 45/45\r"
     ]
    }
   ],
   "source": [
    "import glob\n",
    "import numpy as np\n",
    "import pandas as pd\n",
    "from scipy.interpolate import griddata\n",
    "\n",
    "def read_simulation(filepath):\n",
    "    sim = np.array(pd.read_csv(filepath))\n",
    "    xyz = np.array(sim[:,1:4])\n",
    "\n",
    "    column = np.empty((n, ))\n",
    "    for i, f in enumerate(features):\n",
    "        if xyz.shape[0] != n_cells:\n",
    "            column[i*n_cells:(i+1)*n_cells] = griddata(xyz, sim[:,4+i], xyz_25, method='nearest')\n",
    "        else:\n",
    "            column[i*n_cells:(i+1)*n_cells] = sim[:,4+i]\n",
    "\n",
    "    return column\n",
    "\n",
    "path = './DT_dataset'\n",
    "\n",
    "P_df = pd.read_csv(f'{path}/cases_parameters.csv')\n",
    "P = np.array(P_df.iloc[:,2:])\n",
    "m = P.shape[0]\n",
    "\n",
    "features = ['NOx', 'CO', 'OH', 'H2', 'H2O', 'CO2', 'O2', 'CH4', 'T']\n",
    "n_features = len(features)\n",
    "\n",
    "# The simulations with different inlet diameter use different grids.\n",
    "# We interpolate them on the coarsest grid, which is the one for D=25mm.\n",
    "\n",
    "filepath = glob.glob(f'{path}/Numerical_data/Case6_*')\n",
    "xyz_25 = np.array(pd.read_csv(filepath[0]).iloc[:,1:4])\n",
    "n_cells = xyz_25.shape[0]\n",
    "\n",
    "n = n_features*n_cells\n",
    "X = np.empty((n,m))\n",
    "for i in range(P_df.shape[0]):\n",
    "    filepath =  glob.glob(f'{path}/Numerical_data/Case{P_df.iloc[i,1]}_*')\n",
    "    X[:,i] = read_simulation(filepath[0])\n",
    "    print(f'Simulation {i+1}/{m}', end='\\r', flush=True)\n"
   ]
  },
  {
   "cell_type": "markdown",
   "id": "ca253824",
   "metadata": {},
   "source": [
    "Here we import pyvista to plot a slice of one simulation."
   ]
  },
  {
   "cell_type": "code",
   "execution_count": 60,
   "id": "099f601b",
   "metadata": {},
   "outputs": [
    {
     "data": {
      "image/png": "[encoded data removed]",
      "text/plain": [
       "<Figure size 288x360 with 2 Axes>"
      ]
     },
     "metadata": {
      "needs_background": "light"
     },
     "output_type": "display_data"
    }
   ],
   "source": [
    "import pyvista as pv\n",
    "import matplotlib as mpl\n",
    "import matplotlib.pyplot as plt\n",
    "\n",
    "def plot_slice(mesh, z, normal, origin, axis, feature):\n",
    "    mesh['z'] = z        \n",
    "    plane = mesh.ctp().slice(normal=normal, origin=origin, generate_triangles=True)\n",
    "    \n",
    "    vmin = plane['z'].min()\n",
    "    vmax = plane['z'].max()\n",
    "\n",
    "    x = plane.points\n",
    "    tri = plane.faces.reshape((-1,4))[:, 1:]\n",
    "    \n",
    "    fig, ax = plt.subplots(figsize=(4,5))\n",
    "    levels = 64\n",
    "\n",
    "    axis_labels = ['x', 'y', 'z']\n",
    "    fig.subplots_adjust(bottom=0., top=1., left=0, right=.95, wspace=0., hspace=0.0)\n",
    "\n",
    "    cs = ax.tricontourf(x[:,axis[0]], x[:,axis[1]], tri, plane['z'], cmap='viridis',\n",
    "                        levels=levels)\n",
    "    \n",
    "    ax.set_aspect('equal')\n",
    "    ax.set_xlabel(f'{axis_labels[axis[0]]} (mm)')\n",
    "    ax.set_ylabel(f'{axis_labels[axis[1]]} (mm)')\n",
    "    \n",
    "    ax_bounds = ax.get_position().bounds\n",
    "    cb_ax = fig.add_axes([0.95, ax_bounds[1], 0.025, ax_bounds[3]])\n",
    "    norm = mpl.colors.Normalize(vmin=vmin, vmax=vmax)\n",
    "    cbar = fig.colorbar(mpl.cm.ScalarMappable(norm=norm, cmap='viridis'), \n",
    "                        cax=cb_ax, orientation='vertical', label=feature)\n",
    "    fmt = mpl.ticker.ScalarFormatter(useMathText=True)\n",
    "    cbar.formatter.set_powerlimits((0, 4))\n",
    "    cb_ax.yaxis.set_offset_position('left')\n",
    "    \n",
    "    plt.show()\n",
    "\n",
    "# read the mesh using Pyvista\n",
    "mesh = pv.read(f'{path}/grid.vtu')\n",
    "\n",
    "feature = 'OH'\n",
    "i_feature = features.index(feature)\n",
    "\n",
    "plot_slice(mesh, X[i_feature*n_cells:(i_feature+1)*n_cells,0], (0,1,0), (0.0, 1.0e-3, 0), (0,2), feature)"
   ]
  },
  {
   "attachments": {},
   "cell_type": "markdown",
   "id": "a940e299",
   "metadata": {},
   "source": [
    "## Simulate the OH* emission\n",
    "\n",
    "We use the tools in `utils` to simulate the OH* emission. We use OH as a surrogate of OH*.\n"
   ]
  },
  {
   "cell_type": "code",
   "execution_count": 5,
   "id": "ae847ecb",
   "metadata": {},
   "outputs": [
    {
     "name": "stdout",
     "output_type": "stream",
     "text": [
      "Retrieving snapshot 45/45\r"
     ]
    }
   ],
   "source": [
    "# Store every fields in the mesh object\n",
    "for i in range(n_features):\n",
    "    for j in range(X.shape[1]):\n",
    "        mesh.cell_data.set_array(X[i*n_cells:(i+1)*n_cells, j], f'f{i}/p{j}')\n",
    "        print(f'Storing snapshot {j+1}/{X.shape[1]}', end='\\r', flush=True)\n",
    "\n",
    "# Then, we need to generate the global mesh considering the symmetry plane\n",
    "\n",
    "mesh_mirr = mesh.reflect((1,-1,0), point=(0,0,0))\n",
    "block1 = mesh.merge(mesh_mirr)\n",
    "block2 = block1.reflect((1,0,0), point=(0,0,0))\n",
    "block3 = block1.reflect((0,1,0), point=(0,0,0))\n",
    "block4 = block1.reflect((1,1,0), point=(0,0,0))\n",
    "\n",
    "mesh_glob = block1.merge([block2, block3, block4])\n",
    "n_cells_glob = mesh_glob.n_cells\n",
    "    \n",
    "# Retrieve all the fields\n",
    "X_glob = np.zeros((n_features*n_cells_glob, X.shape[1]))\n",
    "for i in range(n_features):\n",
    "    for j in range(X.shape[1]):\n",
    "        tmp = mesh_glob.cell_data[f'f{i}/p{j}']\n",
    "        X_glob[i*n_cells_glob:(i+1)*n_cells_glob, j] = tmp\n",
    "        print(f'Retrieving snapshot {j+1}/{X.shape[1]}', end='\\r', flush=True)\n",
    "\n",
    "# Clear the data in the mesh objects\n",
    "mesh.clear_data()\n",
    "mesh_glob.clear_data()\n",
    "\n",
    "xyz_int = mesh_glob.cell_centers().points"
   ]
  },
  {
   "cell_type": "code",
   "execution_count": 16,
   "id": "92b242b2",
   "metadata": {},
   "outputs": [
    {
     "name": "stdout",
     "output_type": "stream",
     "text": [
      "Storing snapshot 45/45\r"
     ]
    },
    {
     "name": "stderr",
     "output_type": "stream",
     "text": [
      "Resampling array Data from a Passed Mesh onto Mesh: 100%|██████████[01:31<00:00]\n"
     ]
    },
    {
     "name": "stdout",
     "output_type": "stream",
     "text": [
      "Retrieving snapshot 45/45\r"
     ]
    }
   ],
   "source": [
    "# Then, we sample the mesh on a voxel grid\n",
    "\n",
    "from utils import resample_to_grid\n",
    "\n",
    "n_int = 32\n",
    "dx = 0.2 / n_int\n",
    "\n",
    "xrng = np.arange(-0.1, 0.1, dx, dtype=np.float32)\n",
    "yrng = np.arange(-0.1, 0.1, dx, dtype=np.float32)\n",
    "zrng = np.arange(0.1, 0.5, dx, dtype=np.float32)\n",
    "x, y, z = np.meshgrid(xrng, yrng, zrng, indexing='ij')\n",
    "grid = pv.StructuredGrid(x, y, z)\n",
    "\n",
    "mesh_int, X_int, xyz_int = resample_to_grid(mesh_glob, X_glob, [x, y, z], verbose=True)\n",
    "n_cells_int = xyz_int.shape[0]\n"
   ]
  },
  {
   "cell_type": "code",
   "execution_count": 62,
   "id": "3d98a8c8",
   "metadata": {},
   "outputs": [
    {
     "name": "stdout",
     "output_type": "stream",
     "text": [
      "Pixel 4096/4096\r"
     ]
    }
   ],
   "source": [
    "import numpy as np\n",
    "import pyvista as pv\n",
    "from utils import camera\n",
    "from mpl_toolkits.axes_grid1 import make_axes_locatable\n",
    "\n",
    "p_cam = np.array([1., 0., 0.3, 1]) # position of the camera\n",
    "theta = np.array([-90*np.pi/180, 0., -90*np.pi/180.]) # orientation of the camera\n",
    "\n",
    "n_sensor = 64\n",
    "cam = camera(p_cam, theta, 1, 1, 1, np.array([n_sensor, n_sensor]), 0.4/(n_sensor))\n",
    "C = cam.project(mesh_int, N_rand=2**2, verbose=True, type_rec='parallel')\n"
   ]
  },
  {
   "cell_type": "markdown",
   "id": "f45bc32f",
   "metadata": {},
   "source": [
    "We split the data matrix into the training and testing parts, and we plot the projection of one of the testing simulations."
   ]
  },
  {
   "cell_type": "code",
   "execution_count": 65,
   "id": "8aab1c5b",
   "metadata": {},
   "outputs": [
    {
     "data": {
      "image/png": "[encoded data removed]",
      "text/plain": [
       "<Figure size 288x288 with 2 Axes>"
      ]
     },
     "metadata": {
      "needs_background": "light"
     },
     "output_type": "display_data"
    }
   ],
   "source": [
    "def plot_proj(img, filename=''):\n",
    "    fig, ax = plt.subplots(figsize=(4, 4))\n",
    "    levels = 64\n",
    "\n",
    "    cs = ax.imshow(img, extent=(-0.2, 0.2, 0.1, 0.5))\n",
    "    cmap = mpl.cm.get_cmap('viridis')    \n",
    "    \n",
    "    divider = make_axes_locatable(ax)\n",
    "    cax = divider.append_axes('right', size='5%', pad=0.15)\n",
    "    ax.set_xlabel('x (mm)')\n",
    "    ax.set_ylabel('z (mm)')\n",
    "    ax.set_yticks([0.1, 0.2, 0.3, 0.4, 0.5])\n",
    "    \n",
    "    fmt = mpl.ticker.ScalarFormatter(useMathText=True)\n",
    "    cbar = fig.colorbar(cs, cax=cax, format=fmt)\n",
    "    cbar.formatter.set_powerlimits((0, 0))\n",
    "    cbar.set_label(r'$I_{\\mathrm{OH}}$ (a.u.)')\n",
    "    fig.tight_layout()\n",
    "\n",
    "    if filename != '':\n",
    "        fig.savefig(filename, transparent=False, dpi=600, bbox_inches='tight')\n",
    "\n",
    "    plt.show()\n",
    "\n",
    "i_test = [0, 21, 27, 38] # index of the testing simulations\n",
    "\n",
    "P_train = np.delete(P, i_test, axis=0)\n",
    "P_test = P[i_test, :]\n",
    "\n",
    "X_int_train = np.delete(X_int, i_test, axis=1)\n",
    "X_int_test = X_int[:, i_test]\n",
    "\n",
    "img = C.dot(X_int_test[i_feature*n_cells_int:(i_feature+1)*n_cells_int,0]).reshape(n_sensor, n_sensor)\n",
    "plot_proj(img/img.max())"
   ]
  },
  {
   "cell_type": "markdown",
   "id": "121cdd88",
   "metadata": {},
   "source": [
    "Finally, we use the sparse sensing algorithm to reconstruct the 3D field from the projections."
   ]
  },
  {
   "cell_type": "code",
   "execution_count": 66,
   "id": "9c0b8f4f",
   "metadata": {},
   "outputs": [
    {
     "name": "stderr",
     "output_type": "stream",
     "text": [
      "/opt/anaconda3/envs/env_ml2/lib/python3.9/site-packages/scipy/sparse/_index.py:137: SparseEfficiencyWarning: Changing the sparsity structure of a csr_matrix is expensive. lil_matrix is more efficient.\n",
      "  self._set_arrayXarray_sparse(i, j, x)\n"
     ]
    }
   ],
   "source": [
    "from sparse_sensing import SPR\n",
    "from scipy.sparse import csr_matrix, hstack\n",
    "\n",
    "C_sps = csr_matrix((C.shape[0], X_int_train.shape[0]))\n",
    "C_sps[:, i_feature*n_cells_int:(i_feature+1)*n_cells_int] = C\n",
    "\n",
    "spr = SPR(X_int_train, n_features, xyz_int)  # create the spr object\n",
    "spr.fit(C_sps, method='COLS', n_modes=99.5, abstol=1e-2, verbose=False) # fit the C_sps matrix\n",
    "\n",
    "# compute the projections for the testing cases\n",
    "y_list = [] \n",
    "for i in range(X_int_test.shape[1]):\n",
    "    y = np.zeros((C.shape[0], 3))\n",
    "\n",
    "    proj = C.dot(X_int_test[i_feature*n_cells_int:(i_feature+1)*n_cells_int,i])\n",
    "    y[:,0] = proj.flatten()\n",
    "    y[:,2] = features.index('OH')\n",
    "\n",
    "    y_list.append(y)\n",
    "\n",
    "Ar, Ar_sigma = spr.predict(y_list) # predict the low-d projection\n",
    "X_int_pred = spr.reconstruct(Ar) # reconstruct in the original space\n"
   ]
  },
  {
   "cell_type": "markdown",
   "id": "a8007193",
   "metadata": {},
   "source": [
    "Now we can plot the observed and predicted OH distribution."
   ]
  },
  {
   "cell_type": "code",
   "execution_count": 67,
   "id": "7540db96",
   "metadata": {},
   "outputs": [
    {
     "data": {
      "image/png": "[encoded data removed]",
      "text/plain": [
       "<Figure size 288x216 with 3 Axes>"
      ]
     },
     "metadata": {
      "needs_background": "light"
     },
     "output_type": "display_data"
    }
   ],
   "source": [
    "def plot_comparison(mesh, zs, normal, origin, axis, feature, cmap='viridis'):\n",
    "    n_cases = len(zs)\n",
    "    cases = ['Obs.', 'Pred.']  \n",
    "    for i, case in enumerate(cases):\n",
    "        mesh[case] = zs[i]\n",
    "        \n",
    "    plane = mesh.ctp().slice(normal=normal, origin=origin, generate_triangles=True)\n",
    "    \n",
    "    vmin = plane[cases[0]].min()\n",
    "    vmax = plane[cases[0]].max()\n",
    "\n",
    "    extent_min = [-0.2, -0.2, 0.1]\n",
    "    extent_max = [0.2, 0.2, 0.5]\n",
    "\n",
    "    x = plane.points\n",
    "    tri = plane.faces.reshape((-1,4))[:, 1:]\n",
    "    \n",
    "    fig, axs = plt.subplots(ncols=n_cases, figsize=(4, 3))\n",
    "    levels = 64\n",
    "\n",
    "    axis_labels = ['x', 'y', 'z']\n",
    "    fig.subplots_adjust(bottom=0., top=1., left=0, right=.875, wspace=0.025, hspace=0.0)\n",
    "\n",
    "    for i, ax in enumerate(axs):\n",
    "        cs = ax.tricontourf(x[:,axis[0]], x[:,axis[1]], tri, plane[cases[i]], cmap=cmap,\n",
    "                        levels=levels)\n",
    "        \n",
    "        ax.set_aspect('equal')\n",
    "        ax.set_xlabel(f'{axis_labels[axis[0]]} (mm)')\n",
    "        ax.set_title(cases[i])\n",
    "\n",
    "        if i > 0:\n",
    "            ax.tick_params(axis='y', which='both', left=False, labelleft=False)\n",
    "        else:\n",
    "            ax.set_ylabel(f'{axis_labels[axis[1]]} (mm)')\n",
    "    \n",
    "    \n",
    "    ax_bounds = axs[1].get_position().bounds\n",
    "    cb_ax = fig.add_axes([0.9, ax_bounds[1], 0.025, ax_bounds[3]])\n",
    "    norm = mpl.colors.Normalize(vmin=vmin, vmax=vmax)\n",
    "    cbar = fig.colorbar(mpl.cm.ScalarMappable(norm=norm, cmap=cmap), \n",
    "                        cax=cb_ax, orientation='vertical', label=feature)\n",
    "    fmt = mpl.ticker.ScalarFormatter(useMathText=True)\n",
    "    cbar.formatter.set_powerlimits((0, 4))\n",
    "    cb_ax.yaxis.set_offset_position('left')\n",
    "    \n",
    "    plt.show()\n",
    "\n",
    "plot_feature = features.index('OH')\n",
    "\n",
    "x_test = X_int_test[plot_feature*n_cells_int:(plot_feature+1)*n_cells_int,1]\n",
    "x_pred = X_int_pred[plot_feature*n_cells_int:(plot_feature+1)*n_cells_int,1]\n",
    "\n",
    "# plot the comparison of the OH mass fraction on the symmetry plane\n",
    "plot_comparison(mesh_int, [x_test, x_pred], (0,1,0), (0.0, 1.0e-3, 0), (0,2), 'OH')"
   ]
  },
  {
   "cell_type": "markdown",
   "id": "78368d16",
   "metadata": {},
   "source": [
    "Obviously, in this case the flame is symmetric and we could have simply applied the Abel deconvolution to obtain the planar OH distribution. However, with sparse sensing we can also predict the distribution of the other features."
   ]
  },
  {
   "cell_type": "code",
   "execution_count": 68,
   "id": "aeed8b1d",
   "metadata": {},
   "outputs": [
    {
     "data": {
      "image/png": "[encoded data removed]",
      "text/plain": [
       "<Figure size 288x216 with 3 Axes>"
      ]
     },
     "metadata": {
      "needs_background": "light"
     },
     "output_type": "display_data"
    }
   ],
   "source": [
    "plot_feature = features.index('NOx')\n",
    "\n",
    "x_test = X_int_test[plot_feature*n_cells_int:(plot_feature+1)*n_cells_int,1]\n",
    "x_pred = X_int_pred[plot_feature*n_cells_int:(plot_feature+1)*n_cells_int,1]\n",
    "\n",
    "# plot the comparison of the NO mass fraction on the symmetry plane\n",
    "plot_comparison(mesh_int, [x_test, x_pred], (0,1,0), (0.0, 1.0e-3, 0), (0,2), 'NO', 'turbo')"
   ]
  }
 ],
 "metadata": {
  "kernelspec": {
   "display_name": "env_ml",
   "language": "python",
   "name": "python3"
  },
  "language_info": {
   "codemirror_mode": {
    "name": "ipython",
    "version": 3
   },
   "file_extension": ".py",
   "mimetype": "text/x-python",
   "name": "python",
   "nbconvert_exporter": "python",
   "pygments_lexer": "ipython3",
   "version": "3.9.16"
  },
  "vscode": {
   "interpreter": {
    "hash": "6236daa0679db2e356e0c87e17a97cc17a2ea8465073342bfb9058cade12a9d5"
   }
  }
 },
 "nbformat": 4,
 "nbformat_minor": 5
}
