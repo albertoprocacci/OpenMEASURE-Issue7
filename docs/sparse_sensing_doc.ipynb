{
 "cells": [
  {
   "cell_type": "markdown",
   "id": "d85f85a6",
   "metadata": {},
   "source": [
    "# Sparse sensing documentation\n",
    "\n",
    "## Mathematical theory\n",
    "\n",
    "The fundamental intuition behind the concept of sparse sensing is that a great number of physical phenomena admit a sparse representation in some alternative basis [1](https://doi.org/10.1017/9781108380690). The intrinsic sparsity of a physical phenomenon also means that it is possible to dramatically decrease the amount of measurements without losing important information on the system [2](https://doi.org/10.48550/arXiv.math/0410542).\n",
    "\n",
    "\n",
    "The goal of a Sensor Placement for Reconstruction (SPR) model is to find the solution of the following linear system:\n",
    "\n",
    "\\begin{equation}\n",
    "    \\tag{1}\n",
    "\t\\mathbf{y} = \\mathbf{C} \\mathbf{x}\n",
    "\t\\label{y_Cx}\n",
    "\\end{equation}\n",
    "\n",
    "where $\\mathbf{y} \\subset \\mathbb{R}^s$ is the measurement vector, $\\mathbf{x} \\subset \\mathbb{R}^n$ represents the state of the system and $\\mathbf{C} \\subset \\mathbb{R}^{s,n}$ is the measurement matrix. \n",
    "\n",
    "\n",
    "The objective is to minimize the amount of sensors needed, that is $ n \\gg s$, which means that the matrix $ \\mathbf{C} $ is not invertible and the linear system admits infinite solutions.  Moreover, the linear problem in Eq. (\\ref{y_Cx}) is generally ill-conditioned. As a result, linear methods such as least-squares regression cannot be applied to find an acceptable solution.\n",
    "\n",
    "\n",
    "However, if the system admits a sparse representation in a new basis, we can consider that $ \\mathbf{x} \\approx \\mathbf{U}_{q} \\mathbf{a}_q$ where $\\mathbf{U}_q \\subset \\mathbb{R}^{n,q}$ represents the $q$-order truncation of the transforming basis and $\\mathbf{a}_q$ is the projection of $\\mathbf{x}$ onto the new truncated basis.\n",
    "\n",
    "\n",
    "Depending on the system considered, a different number of decomposition techniques can be applied to recover the new basis from the data. An obvious choice is to use the Proper Orthogonal Decomposition (POD) [3](https://doi.org/10.1146/annurev.fl.25.010193.002543), also known as Principal Component Analysis (PCA) or Karhunen-Loeve transform (KLT), because it guarantees that the $q$-order truncation is the one that minimizes the $l_2$ norm reconstruction error. The POD can be achieved by applying the Singular Value Decomposition (SVD) to the dataset:\n",
    "\n",
    "\n",
    "\\begin{equation}\n",
    "\t\\mathbf{X} = \\mathbf{U} \\mathrm{\\boldsymbol{\\Sigma}} \\mathbf{V}^T\n",
    "    \\label{eq_SVD}\n",
    "\\end{equation}\n",
    "\n",
    "\n",
    "where $\\mathbf{X} \\subset \\mathbb{R}^{n,p}$ represents the data matrix to be decomposed, $\\mathbf{U} \\subset \\mathbb{R}^{n,p}$ and $\\mathbf{V} \\subset \\mathbb{R}^{p,p}$ are matrices which form an orthonormal basis for the column and row spaces of $\\mathbf{X}$, and $\\mathrm{\\boldsymbol{\\Sigma}} \\subset \\mathbb{R}^{p,p}$ is the diagonal matrix which contains the singular values of $\\mathbf{X}$. The singular values are the square root of the eigenvalues of the correlation matrix $\\mathbf{S} = \\mathbf{X}^T \\mathbf{X}$, and they express the amount of variance that each column (mode) of $\\mathbf{U}$ is able to capture with respect to the original data matrix.  \n",
    "\n",
    "\n",
    "If we assemble $p$ vectors $\\mathbf{x}$ as column vectors of a data matrix $\\mathbf{X}$, we can then use the SVD to find the transforming basis $\\mathbf{U}_q$ by discarding the last $p-q$ columns of $\\mathbf{U}$. \n",
    "\n",
    "\n",
    "By introducing $ \\mathbf{x} = \\mathbf{U}_{q} \\mathbf{a}_q$, the linear system in Eq. (\\ref{y_Cx}) can then be written as:\n",
    "\n",
    "\\begin{equation}\n",
    "    \\tag{2}\n",
    "\t\\mathbf{y} = \\mathrm{\\boldsymbol{\\Theta}} \\mathbf{a}_q\n",
    "    \\label{y_thetax}\n",
    "\\end{equation}\n",
    "\n",
    "where $ \\mathrm{\\boldsymbol{\\Theta}} = \\mathbf{C} \\mathbf{U}_q$. In order to find a solution for Eq. (\\ref{y_thetax}), the matrix $\\mathbf{C}$ has to be constructed such that $\\mathrm{\\boldsymbol{\\Theta}}$ is as well-conditioned as possible. This objective can be reached by making sure that $\\mathbf{C}$ is incoherent with respect to $\\mathbf{U}_q$, which means that the rows of $\\mathbf{C}$ should not be correlated with the columns of  $\\mathbf{U}_q$ [4](https://doi.org/10.1109/MSP.2007.914731). \n",
    "\n",
    "### Optimal placement using QR decomposition with column pivoting\n",
    "A popular approach to construct the measurement matrix is to use random sampling. This technique is computationally inexpensive, and a random measurement has a high probability of being incoherent with respect to the transforming basis [4](https://doi.org/10.1109/MSP.2007.914731). However, this technique does not produce an optimized placement of sensors, thus the number of sensors required is far from the theoretical minimum.\n",
    "\n",
    "\n",
    "Another technique to construct the measurement matrix is to select the sensors' position based on the QR decomposition with column pivoting (QRCP) [5](https://doi.org/10.1109/MCS.2018.2810460). The QRCP is a decomposition technique in which a matrix $\\mathbf{A}\\subset \\mathbb{R}^{q,n}$ is factorized into an orthogonal matrix $\\mathbf{Q} \\subset \\mathbb{R}^{q,q}$ and an upper rectangular matrix $\\mathbf{R}\\subset \\mathbb{R}^{q,n}$:\n",
    "\n",
    "\\begin{equation}\n",
    "\t\\mathbf{A}\\mathbf{P} = \\mathbf{Q}\\mathbf{R}\n",
    "\\end{equation}\n",
    "\n",
    "The matrix $\\mathbf{P}$ is a permutation matrix which is chosen so that the diagonal elements of $\\mathbf{R}$ are not increasing. QRCP is usually employed as a rank revealing method. In our case, the pivots are used to construct the measurement matrix from the transforming basis:\n",
    "\n",
    "\\begin{equation}\n",
    "\t\\mathbf{U}_q^T \\mathbf{C}^T = \\mathbf{Q}\\mathbf{R}\n",
    "    \\label{optimal_C}\n",
    "\\end{equation}\n",
    "\n",
    "The QRCP is able to provide $q$ sensors which best sample the transforming basis $\\mathbf{U}_q$. \n",
    "\n",
    "\n",
    "### Optimal placement using the greedy entropy maximization algorithm\n",
    "\n",
    "The optimal placement problem can be defined as finding the set of sensors that convey the maximum amount of information on the transforming basis $\\mathbf{U}_q$. \n",
    "\n",
    "In the context of information theory, the information content associated with an event $X = x$, where $X$ represents a random variable and $x$ a specific value assumed by $X$, is defined as:\n",
    "\n",
    "\\begin{equation}\n",
    "    I(X=x) = -\\log p(x)\n",
    "\\end{equation}\n",
    "\n",
    "\n",
    "From this, the expected information content (entropy) of a random variable $X$ is equal to:\n",
    "\n",
    "\\begin{equation}\n",
    "\tH(X) = -\\sum_{x} p(x) \\log p(x)\n",
    "\\end{equation}\n",
    "\n",
    "Our goal is then to find the set of $n$ sensors that maximize the joint entropy:\n",
    "\n",
    "\\begin{equation}\n",
    "    H(X_1, X_2, \\dots, X_n) = - \\sum_{x_n} \\dots \\sum_{x_2}\\sum_{x_1} p(x_1, x_2, \\dots, x_n) \\log p(x_1, x_2, \\dots, x_n)\n",
    "\\end{equation}\n",
    "\n",
    "However, there are a couple of problems associated with this goal. The first is that to find the maximum joint entropy we need to perform a combinatorial search through the all possible set of $n$ sensors, which is infeasible. The second problem is that we need a way to represent the joint probability from the data at hand. \n",
    "\n",
    "\n",
    "The first problem is solved by applying a greedy maximization algorithm. This means that the algorithm searches first the sensor associated with the maximum entropy. Then, the second sensor is selected as the one that maximizes the entropy of the joint distribution with the first sensor. The search is continued until we reach the desired number of sensors.\n",
    "\n",
    "The second problem is tackled by approximating the joint probability distribution as a joint gaussian distribution [6](http://jmlr.org/papers/v9/krause08a.html).  The gaussian approximation allows us to compute the differential conditional entropy of the joint gaussian distribution :\n",
    "\n",
    "\\begin{equation}\n",
    "    H(y|A) = \\frac{1}{2} \\log \\sigma^2_{y|A} + \\frac{1}{2}(\\log(2 \\pi) + 1)\n",
    "\\end{equation}\n",
    "\n",
    "\\begin{equation}\n",
    "    \\sigma^2_{y | A} = \\sigma^2_{y} - \\Sigma_{yA} \\Sigma_{AA}^{-1} \\Sigma_{Ay}\n",
    "\\end{equation}\n",
    "\n",
    "where the subscripts $A$ and $y$ denotes the set of sensors already selected and the sensor to add. If $\\Sigma$ is the covariance matrix of the set containing $A$ and $y$, then:\n",
    "\n",
    "\\begin{equation}\n",
    "    \\Sigma = \n",
    "    \\begin{bmatrix}\n",
    "        \\Sigma_{AA} & \\Sigma_{Ay} \\\\\n",
    "        \\Sigma_{yA} &  \\sigma^2_{y}\n",
    "    \\end{bmatrix}\n",
    "\\end{equation}\n",
    "\n",
    "\n",
    "### Prediction using Ordinary Least Squares and Constrained Ordinary Least Squares\n",
    "\n",
    "The linear system in Eq. \\ref{y_thetax} can be solved using Ordinary Least Squares (OLS). This is equivalent to find the solution $\\mathbf{a}^*$ that minimizes the $l_2$ norm distance:\n",
    "\n",
    "\\begin{equation}\n",
    "    \\mathbf{a}^* = \\underset{\\mathbf{a}}{\\mathrm{argmin}} || \\mathbf{y} - \\boldsymbol{\\Theta} \\mathbf{a}||_2\n",
    "\\end{equation}\n",
    "\n",
    "If the data matrix contains only thermo-chemical features (temperature and species mass fractions), we also know that the solution has to be positive everywhere. This constraint can be introduced while solving the linear system: \n",
    "\n",
    "\n",
    "\\begin{align}\n",
    "\\mathbf{a}^* = \\underset{\\mathbf{a}}{\\textrm{argmin}}  & \\  || \\mathbf{y} - \\boldsymbol{\\Theta} \\mathbf{a}||_2 \\\\\n",
    "\\textrm{s.t.}  & \\  \\mathbf{U}_r \\mathbf{a} > 0\n",
    "\\end{align}\n"
   ]
  },
  {
   "cell_type": "markdown",
   "id": "35c8cb09",
   "metadata": {},
   "source": [
    "## Example\n",
    "\n",
    "The first cell is used to download the dataset from zenodo using the ```zenodo_get ``` command. This command can be installed via:\n",
    "```console\n",
    "pip install zenodo_get\n",
    "```\n",
    "Otherwise, the dataset can be downloaded directly from [zenodo](https://www.zenodo.org/record/7786311)."
   ]
  },
  {
   "cell_type": "code",
   "execution_count": null,
   "id": "091542c5",
   "metadata": {},
   "outputs": [],
   "source": [
    "import zenodo_get\n",
    "\n",
    "! zenodo_get -d 10.5281/zenodo.7786311\n",
    "! unzip DT_dataset.zip"
   ]
  },
  {
   "cell_type": "markdown",
   "id": "464faa45",
   "metadata": {},
   "source": [
    "Here we import some libraries and we create the data matrix `X` that contains the 45 simulations."
   ]
  },
  {
   "cell_type": "code",
   "execution_count": 1,
   "id": "813abc47",
   "metadata": {},
   "outputs": [
    {
     "name": "stdout",
     "output_type": "stream",
     "text": [
      "Simulation 45/45\r"
     ]
    }
   ],
   "source": [
    "import glob\n",
    "import numpy as np\n",
    "import pandas as pd\n",
    "from scipy.interpolate import griddata\n",
    "\n",
    "def read_simulation(filepath):\n",
    "    sim = np.array(pd.read_csv(filepath))\n",
    "    xyz = np.array(sim[:,1:4])\n",
    "\n",
    "    column = np.empty((n_3D, ))\n",
    "    for i, f in enumerate(features):\n",
    "        if xyz.shape[0] != n_cells_3D:\n",
    "            column[i*n_cells_3D:(i+1)*n_cells_3D] = griddata(xyz, sim[:,4+i], xyz_25, method='nearest')\n",
    "        else:\n",
    "            column[i*n_cells_3D:(i+1)*n_cells_3D] = sim[:,4+i]\n",
    "\n",
    "    return column\n",
    "\n",
    "path = './DT_dataset'\n",
    "\n",
    "P_df = pd.read_csv(f'{path}/cases_parameters.csv')\n",
    "P = np.array(P_df.iloc[:,2:])\n",
    "m = P.shape[0]\n",
    "\n",
    "features = ['NOx', 'CO', 'OH', 'H2', 'H2O', 'CO2', 'O2', 'CH4', 'T']\n",
    "n_features = len(features)\n",
    "\n",
    "# The simulations with different inlet diameter use different grids.\n",
    "# We interpolate them on the coarsest grid, which is the one for D=25mm.\n",
    "\n",
    "filepath = glob.glob(f'{path}/Numerical_data/Case6_*')\n",
    "xyz_25 = np.array(pd.read_csv(filepath[0]).iloc[:,1:4])\n",
    "n_cells_3D = xyz_25.shape[0]\n",
    "\n",
    "n_3D = n_features*n_cells_3D\n",
    "X_3D = np.empty((n_3D,m))\n",
    "for i in range(P_df.shape[0]):\n",
    "    filepath =  glob.glob(f'{path}/Numerical_data/Case{P_df.iloc[i,1]}_*')\n",
    "    X_3D[:,i] = read_simulation(filepath[0])\n",
    "    print(f'Simulation {i+1}/{m}', end='\\r', flush=True)"
   ]
  },
  {
   "cell_type": "markdown",
   "id": "4d4a65b9",
   "metadata": {},
   "source": [
    "To speed-up the calculations, we consider only the data on the $y=0$ plane. Skip this cell if you want to calculate the entire\n",
    "3D solution."
   ]
  },
  {
   "cell_type": "code",
   "execution_count": 14,
   "id": "c1939edd",
   "metadata": {},
   "outputs": [
    {
     "name": "stdout",
     "output_type": "stream",
     "text": [
      "Storing simulation 45/45\r"
     ]
    },
    {
     "name": "stderr",
     "output_type": "stream",
     "text": [
      "Slicing: 100%|██████████[00:16<00:00]\n"
     ]
    },
    {
     "name": "stdout",
     "output_type": "stream",
     "text": [
      "(64036, 3)\n",
      "64036\n",
      "Retrieving simulation 45/45\r"
     ]
    }
   ],
   "source": [
    "import pyvista as pv\n",
    "\n",
    "# read the mesh using Pyvista\n",
    "mesh = pv.read(f'{path}/grid.vtu')\n",
    "\n",
    "for i in range(m):\n",
    "    print(f'Storing simulation {i+1}/{m}', end='\\r', flush=True)\n",
    "    for j in range(n_features):\n",
    "        mesh[f'{i}/{j}'] = X_3D[j*n_cells_3D:(j+1)*n_cells_3D, i]\n",
    "\n",
    "\n",
    "plane = mesh.ctp(pass_cell_data=True).slice(normal='y', origin=(0,1e-3,0), progress_bar=True, generate_triangles=True)\n",
    "\n",
    "xyz = plane.cell_centers().points\n",
    "n_cells = plane.n_cells\n",
    "n = n_features*n_cells\n",
    "X = np.empty((n,m))\n",
    "\n",
    "for i in range(m):\n",
    "    print(f'Retrieving simulation {i+1}/{m}', end='\\r', flush=True)\n",
    "    for j in range(n_features):\n",
    "        X[j*n_cells:(j+1)*n_cells, i] = plane.cell_data[f'{i}/{j}']"
   ]
  },
  {
   "cell_type": "markdown",
   "id": "3caf9266",
   "metadata": {},
   "source": [
    "## Optimal sensor placement\n",
    "\n",
    "In this cell, we use the function `optimal_placement()` to compute the optimal sensor placement matrix C using the QRCP algorithm."
   ]
  },
  {
   "cell_type": "code",
   "execution_count": 15,
   "id": "b644abb9",
   "metadata": {},
   "outputs": [
    {
     "data": {
      "image/png": "[encoded data removed]",
      "text/plain": [
       "<Figure size 288x288 with 1 Axes>"
      ]
     },
     "metadata": {
      "needs_background": "light"
     },
     "output_type": "display_data"
    }
   ],
   "source": [
    "from sparse_sensing import SPR\n",
    "import matplotlib as mpl\n",
    "import matplotlib.pyplot as plt\n",
    "\n",
    "def sample_cmap(x):\n",
    "    return plt.cm.jet((np.clip(x,0,1)))\n",
    "\n",
    "def plot_sensors(xyz_sensors, features, mesh_outline):\n",
    "    fig, ax = plt.subplots(figsize=(4, 4))\n",
    "    ax.plot(mesh_outline[:,0], mesh_outline[:,1], c='k', lw=0.5, zorder=1)\n",
    "    \n",
    "    features_unique = np.unique(xyz_sensors[:,3])\n",
    "    colors = np.zeros((features_unique.size,4))\n",
    "    for i in range(colors.shape[0]):\n",
    "        colors[i,:] = sample_cmap(features_unique[i]/len(features))\n",
    "        \n",
    "    for i, f in enumerate(features_unique):\n",
    "        mask = xyz_sensors[:,3] == f\n",
    "        ax.scatter(xyz_sensors[:,0][mask], xyz_sensors[:,2][mask], color=colors[i,:], \n",
    "                   marker='x', s=15, lw=0.5, label=features[int(f)], zorder=2)\n",
    "\n",
    "    \n",
    "    ax.set_xlabel('$x (\\mathrm{m})$', fontsize=8)\n",
    "    ax.set_ylabel('$z (\\mathrm{m})$', fontsize=8)\n",
    "    eps = 1e-2\n",
    "    ax.set_xlim(-eps, 0.35)\n",
    "    ax.set_ylim(-0.15,0.7+eps)\n",
    "    ax.set_aspect('equal')\n",
    "    ax.legend(fontsize=8, frameon=False, loc='center right')\n",
    "    ax.xaxis.tick_top()\n",
    "    ax.xaxis.set_label_position('top')\n",
    "    wid = 0.3\n",
    "    ax.xaxis.set_tick_params(width=wid)\n",
    "    ax.yaxis.set_tick_params(width=wid)\n",
    "    ax.set_xticks([0., 0.18, 0.35])\n",
    "    ax.tick_params(axis='both', which='major', labelsize=8)\n",
    "    ax.spines['top'].set_visible(False)\n",
    "    ax.spines['right'].set_visible(False)\n",
    "    ax.spines['bottom'].set_visible(False)\n",
    "    ax.spines['left'].set_visible(False)\n",
    "    \n",
    "    plt.show()\n",
    "\n",
    "i_test = [0, 21, 27, 38] # index of the testing simulations\n",
    "\n",
    "P_train = np.delete(P, i_test, axis=0)\n",
    "P_test = P[i_test, :]\n",
    "\n",
    "X_train = np.delete(X, i_test, axis=1)\n",
    "X_test = X[:, i_test]\n",
    "\n",
    "spr = SPR(X_train, n_features, xyz) # Create the spr object\n",
    "\n",
    "# Compute the optimal measurement matrix using qr decomposition\n",
    "n_sensors = 14\n",
    "C_qr = spr.optimal_placement(select_modes='number', n_modes=n_sensors)\n",
    "\n",
    "# Get the sensors positions and features\n",
    "xyz_sensors = np.zeros((n_sensors, 4))\n",
    "for i in range(n_sensors):\n",
    "    index = np.argmax(C_qr[i,:])\n",
    "    xyz_sensors[i,:3] = xyz[index % n_cells, :]\n",
    "    xyz_sensors[i,3] = index // n_cells\n",
    "\n",
    "mesh_outline = np.genfromtxt('../data/ROM/mesh_outline.csv', delimiter=',', skip_header=1)\n",
    "\n",
    "plot_sensors(xyz_sensors, features, mesh_outline)\n",
    "\n"
   ]
  },
  {
   "cell_type": "markdown",
   "id": "1c508dd8",
   "metadata": {},
   "source": [
    "In this cell, we use the same function `optimal_placement()` but we employ the greedy entropy maximization algorithm to find the optimal sensors."
   ]
  },
  {
   "cell_type": "code",
   "execution_count": 16,
   "id": "34ec8403",
   "metadata": {},
   "outputs": [
    {
     "name": "stdout",
     "output_type": "stream",
     "text": [
      "---------------------------------------------------------------------- \n",
      " # sensors  sigma^2 y  sigma^2 y|a    Htot    \n",
      " \n",
      "    1       4.00e+00       -          -    \n",
      "    2       1.92e+00   1.89e+00   1.74e+00 \n",
      "    3       1.89e+00   1.78e+00   3.44e+00 \n",
      "    4       1.29e+00   1.17e+00   4.94e+00 \n",
      "    5       7.14e-01   5.65e-01   6.07e+00 \n",
      "    6       5.59e-01   4.25e-01   7.07e+00 \n",
      "    7       2.65e-01   1.26e-01   7.45e+00 \n",
      "    8       1.37e-01   1.26e-01   7.83e+00 \n",
      "    9       3.83e-01   8.04e-02   7.99e+00 \n",
      "    10      1.62e-01   3.20e-02   7.69e+00 \n",
      "    11      1.62e-01   9.52e-06   3.32e+00 \n",
      "    12      1.62e-01   3.01e-04   6.89e-01 \n",
      "    13      5.59e-01   1.72e-05  -3.38e+00 \n",
      "    14      6.90e-01   1.99e-05  -7.37e+00 \n"
     ]
    },
    {
     "data": {
      "image/png": "[encoded data removed]",
      "text/plain": [
       "<Figure size 288x288 with 1 Axes>"
      ]
     },
     "metadata": {
      "needs_background": "light"
     },
     "output_type": "display_data"
    }
   ],
   "source": [
    "# Compute the optimal measurement matrix using gem decomposition\n",
    "n_sensors = 14\n",
    "\n",
    "C_gem = spr.optimal_placement(calc_type='gem', n_sensors=n_sensors, n_modes=99.5, verbose=True)\n",
    "\n",
    "# Get the sensors positions and features\n",
    "xyz_sensors = np.zeros((n_sensors, 4))\n",
    "for i in range(n_sensors):\n",
    "    index = np.argmax(C_gem[i,:])\n",
    "    xyz_sensors[i,:3] = xyz[index % n_cells, :]\n",
    "    xyz_sensors[i,3] = index // n_cells\n",
    "\n",
    "plot_sensors(xyz_sensors, features, mesh_outline)"
   ]
  },
  {
   "cell_type": "markdown",
   "id": "f17e9ef4",
   "metadata": {},
   "source": [
    "The placement and choice of sensors is similar to the QRCP choice. However, the advantage of the GEM algorithm is that we can select an arbitrary number of sensors, and we can enforce the minimum distance between them. In the next cell we use the GEM algorithm to find the optimal set of 20 sensor spaced at least 5 cm apart."
   ]
  },
  {
   "cell_type": "code",
   "execution_count": 17,
   "id": "67c9eeb0",
   "metadata": {},
   "outputs": [
    {
     "name": "stdout",
     "output_type": "stream",
     "text": [
      "---------------------------------------------------------------------- \n",
      " # sensors  sigma^2 y  sigma^2 y|a    Htot    \n",
      " \n",
      "    1       4.00e+00       -          -    \n",
      "    2       1.92e+00   1.89e+00   1.74e+00 \n",
      "    3       1.13e+00   7.64e-01   3.02e+00 \n",
      "    4       6.23e-01   5.94e-01   4.18e+00 \n",
      "    5       6.41e-01   4.63e-01   5.21e+00 \n",
      "    6       1.37e-01   1.23e-01   5.58e+00 \n",
      "    7       1.24e-01   1.11e-01   5.91e+00 \n",
      "    8       1.62e-01   9.30e-02   6.14e+00 \n",
      "    9       2.77e-01   3.69e-02   5.90e+00 \n",
      "    10      5.08e-02   2.33e-02   5.45e+00 \n",
      "    11      9.95e-02   1.50e-06   1.57e-01 \n",
      "    12      1.14e-01   3.94e-06  -4.65e+00 \n",
      "    13      7.22e-02   5.54e-06  -9.28e+00 \n",
      "    14      9.19e-02   4.22e-06  -1.40e+01 \n",
      "    15      9.92e-03   1.11e-06  -1.95e+01 \n",
      "    16      9.34e-03   4.67e-06  -2.42e+01 \n",
      "    17      1.09e-02   5.17e-06  -2.89e+01 \n",
      "    18      1.44e-03   5.50e-08  -3.58e+01 \n",
      "    19      7.61e-04   8.27e-09  -4.37e+01 \n",
      "    20      5.53e-02   3.03e-06  -4.86e+01 \n"
     ]
    },
    {
     "data": {
      "image/png": "[encoded data removed]",
      "text/plain": [
       "<Figure size 288x288 with 1 Axes>"
      ]
     },
     "metadata": {
      "needs_background": "light"
     },
     "output_type": "display_data"
    }
   ],
   "source": [
    "C_gem = spr.optimal_placement(calc_type='gem', n_sensors=20, d_min=0.05, n_modes=99.5, verbose=True)\n",
    "\n",
    "# Get the sensors positions and features\n",
    "xyz_sensors = np.zeros((n_sensors, 4))\n",
    "for i in range(n_sensors):\n",
    "    index = np.argmax(C_gem[i,:])\n",
    "    xyz_sensors[i,:3] = xyz[index % n_cells, :]\n",
    "    xyz_sensors[i,3] = index // n_cells\n",
    "\n",
    "plot_sensors(xyz_sensors, features, mesh_outline)"
   ]
  },
  {
   "cell_type": "markdown",
   "id": "f4ce49e6",
   "metadata": {},
   "source": [
    "## Sparse Placement for Reconstruction\n",
    "\n",
    "In this cell, we use the C matrix to sample a test case, then we use the `SPR()` function to predict the state of the system given few (14) measurements. "
   ]
  },
  {
   "cell_type": "code",
   "execution_count": 18,
   "id": "a7ac89ad",
   "metadata": {
    "scrolled": true
   },
   "outputs": [
    {
     "data": {
      "image/png": "[encoded data removed]",
      "text/plain": [
       "<Figure size 388.8x432 with 3 Axes>"
      ]
     },
     "metadata": {
      "needs_background": "light"
     },
     "output_type": "display_data"
    }
   ],
   "source": [
    "import pyvista as pv\n",
    "\n",
    "def plot_comparison_3D(mesh, zs, normal, origin, axis, feature, cmap='viridis'):\n",
    "    n_cases = len(zs)\n",
    "    cases = ['Obs.', 'Pred.']  \n",
    "    for i, case in enumerate(cases):\n",
    "        mesh[case] = zs[i]\n",
    "        \n",
    "    plane = mesh.ctp().slice(normal=normal, origin=origin, generate_triangles=True)\n",
    "    \n",
    "    vmin = np.min([plane[cases[0]].min(), plane[cases[1]].min()])\n",
    "    vmax = np.max([plane[cases[0]].max(), plane[cases[1]].max()])\n",
    "\n",
    "    x = plane.points\n",
    "    tri = plane.faces.reshape((-1,4))[:, 1:]\n",
    "    \n",
    "    fig, axs = plt.subplots(ncols=n_cases, figsize=(5.4, 6))\n",
    "    levels = 64\n",
    "\n",
    "    axis_labels = ['x', 'y', 'z']\n",
    "    fig.subplots_adjust(bottom=0., top=1., left=0, right=.925, wspace=0.0, hspace=0.05)\n",
    "\n",
    "    for i, ax in enumerate(axs):\n",
    "        if i == 0:\n",
    "            ax.invert_xaxis()\n",
    "        \n",
    "        cs = ax.tricontourf(x[:,axis[0]], x[:,axis[1]], tri, plane[cases[i]], cmap=cmap,\n",
    "                        levels=levels, vmin=vmin, vmax=vmax)\n",
    "        \n",
    "        ax.set_aspect('equal')\n",
    "        ax.set_xlabel(f'{axis_labels[axis[0]]} (mm)')\n",
    "        ax.set_title(cases[i])\n",
    "\n",
    "        if i > 0:\n",
    "            ax.tick_params(axis='y', which='both', left=False, labelleft=False)\n",
    "        else:\n",
    "            ax.set_ylabel(f'{axis_labels[axis[1]]} (mm)')\n",
    "    \n",
    "    \n",
    "    ax_bounds = axs[1].get_position().bounds\n",
    "    cb_ax = fig.add_axes([0.95, ax_bounds[1], 0.025, ax_bounds[3]])\n",
    "    norm = mpl.colors.Normalize(vmin=vmin, vmax=vmax)\n",
    "    cbar = fig.colorbar(mpl.cm.ScalarMappable(norm=norm, cmap=cmap), \n",
    "                        cax=cb_ax, orientation='vertical', label=feature)\n",
    "    fmt = mpl.ticker.ScalarFormatter(useMathText=True)\n",
    "    cbar.formatter.set_powerlimits((0, 4))\n",
    "    cb_ax.yaxis.set_offset_position('left')\n",
    "    \n",
    "    plt.show()\n",
    "\n",
    "def plot_comparison(plane, zs, feature, cmap='viridis'):\n",
    "    n_cases = len(zs)\n",
    "    cases = ['Obs.', 'Pred.']  \n",
    "    for i, case in enumerate(cases):\n",
    "        plane[case] = zs[i]\n",
    "        \n",
    "    plane = plane.ctp()\n",
    "    \n",
    "    vmin = np.min([plane[cases[0]].min(), plane[cases[1]].min()])\n",
    "    vmax = np.max([plane[cases[0]].max(), plane[cases[1]].max()])\n",
    "\n",
    "    extent_min = [-0.2, -0.2, 0.1]\n",
    "    extent_max = [0.2, 0.2, 0.5]\n",
    "\n",
    "    x = plane.points\n",
    "    tri = plane.faces.reshape((-1,4))[:, 1:]\n",
    "    \n",
    "    fig, axs = plt.subplots(ncols=n_cases, figsize=(5.4, 6))\n",
    "    levels = 64\n",
    "\n",
    "    axis_labels = ['x', 'y', 'z']\n",
    "    fig.subplots_adjust(bottom=0., top=1., left=0, right=.925, wspace=0.0, hspace=0.05)\n",
    "\n",
    "    for i, ax in enumerate(axs):\n",
    "        if i == 0:\n",
    "            ax.invert_xaxis()\n",
    "        \n",
    "        cs = ax.tricontourf(x[:,0], x[:,2], tri, plane[cases[i]], cmap=cmap,\n",
    "                        levels=levels, vmin=vmin, vmax=vmax)\n",
    "        \n",
    "        ax.set_aspect('equal')\n",
    "        ax.set_xlabel(f'{axis_labels[0]} (mm)')\n",
    "        ax.set_title(cases[i])\n",
    "\n",
    "        if i > 0:\n",
    "            ax.tick_params(axis='y', which='both', left=False, labelleft=False)\n",
    "        else:\n",
    "            ax.set_ylabel(f'{axis_labels[2]} (mm)')\n",
    "    \n",
    "    \n",
    "    ax_bounds = axs[1].get_position().bounds\n",
    "    cb_ax = fig.add_axes([0.95, ax_bounds[1], 0.025, ax_bounds[3]])\n",
    "    norm = mpl.colors.Normalize(vmin=vmin, vmax=vmax)\n",
    "    cbar = fig.colorbar(mpl.cm.ScalarMappable(norm=norm, cmap=cmap), \n",
    "                        cax=cb_ax, orientation='vertical', label=feature)\n",
    "    fmt = mpl.ticker.ScalarFormatter(useMathText=True)\n",
    "    cbar.formatter.set_powerlimits((0, 4))\n",
    "    cb_ax.yaxis.set_offset_position('left')\n",
    "    \n",
    "    plt.show()\n",
    "    \n",
    "# Sample a test simulation using the optimal qr matrix\n",
    "y_qr = np.zeros((n_sensors,3))\n",
    "y_qr[:,0] = C_qr @ X_test[:,3]\n",
    "\n",
    "for i in range(n_sensors):\n",
    "    y_qr[i,2] = np.argmax(C_qr[i,:]) // n_cells\n",
    "\n",
    "# Fit the model and predict the low-dim vector (ap) and the high-dim solution (xp)\n",
    "spr.fit()\n",
    "spr.train(C_qr)\n",
    "Ap, Ap_sigma = spr.predict(y_qr)\n",
    "Xp_test = spr.reconstruct(Ap)\n",
    "\n",
    "# read the mesh using Pyvista\n",
    "mesh = pv.read(f'{path}/grid.vtu')\n",
    "\n",
    "# Select the feature to plot\n",
    "str_ind = 'OH'\n",
    "ind = features.index(str_ind)\n",
    "\n",
    "x_test = X_test[ind*n_cells:(ind+1)*n_cells, 3]\n",
    "xp_test = Xp_test[ind*n_cells:(ind+1)*n_cells, 0]\n",
    "\n",
    "plot_comparison(plane, [x_test, xp_test], str_ind)"
   ]
  },
  {
   "cell_type": "markdown",
   "id": "412a716f",
   "metadata": {},
   "source": [
    "We can improve the prediction by enforcing the costraint that $\\mathbf{x} > 0 $ everywhere. This is done by using the `'COLS'` method."
   ]
  },
  {
   "cell_type": "code",
   "execution_count": 19,
   "id": "5b39a17e",
   "metadata": {},
   "outputs": [
    {
     "name": "stdout",
     "output_type": "stream",
     "text": [
      "===============================================================================\n",
      "                                     CVXPY                                     \n",
      "                                     v1.3.1                                    \n",
      "===============================================================================\n",
      "(CVXPY) Nov 03 02:48:11 PM: Your problem has 9 variables, 2 constraints, and 0 parameters.\n",
      "(CVXPY) Nov 03 02:48:11 PM: It is compliant with the following grammars: DCP, DQCP\n",
      "(CVXPY) Nov 03 02:48:11 PM: (If you need to solve this problem multiple times, but with different data, consider using parameters.)\n",
      "(CVXPY) Nov 03 02:48:11 PM: CVXPY will first compile your problem; then, it will invoke a numerical solver to obtain a solution.\n",
      "-------------------------------------------------------------------------------\n",
      "                                  Compilation                                  \n",
      "-------------------------------------------------------------------------------\n",
      "(CVXPY) Nov 03 02:48:11 PM: Compiling problem (target solver=ECOS).\n",
      "(CVXPY) Nov 03 02:48:11 PM: Reduction chain: Dcp2Cone -> CvxAttr2Constr -> ConeMatrixStuffing -> ECOS\n",
      "(CVXPY) Nov 03 02:48:11 PM: Applying reduction Dcp2Cone\n",
      "(CVXPY) Nov 03 02:48:11 PM: Applying reduction CvxAttr2Constr\n",
      "(CVXPY) Nov 03 02:48:11 PM: Applying reduction ConeMatrixStuffing\n"
     ]
    },
    {
     "name": "stdout",
     "output_type": "stream",
     "text": [
      "(CVXPY) Nov 03 02:48:15 PM: Applying reduction ECOS\n",
      "(CVXPY) Nov 03 02:48:18 PM: Finished problem compilation (took 7.046e+00 seconds).\n",
      "-------------------------------------------------------------------------------\n",
      "                                Numerical solver                               \n",
      "-------------------------------------------------------------------------------\n",
      "(CVXPY) Nov 03 02:48:18 PM: Invoking solver ECOS  to obtain a solution.\n",
      "-------------------------------------------------------------------------------\n",
      "                                    Summary                                    \n",
      "-------------------------------------------------------------------------------\n",
      "(CVXPY) Nov 03 02:49:25 PM: Problem status: optimal\n",
      "(CVXPY) Nov 03 02:49:25 PM: Optimal value: 1.799e+01\n",
      "(CVXPY) Nov 03 02:49:25 PM: Compilation took 7.046e+00 seconds\n",
      "(CVXPY) Nov 03 02:49:25 PM: Solver (including time spent in interface) took 6.707e+01 seconds\n"
     ]
    },
    {
     "data": {
      "image/png": "[encoded data removed]",
      "text/plain": [
       "<Figure size 388.8x432 with 3 Axes>"
      ]
     },
     "metadata": {
      "needs_background": "light"
     },
     "output_type": "display_data"
    }
   ],
   "source": [
    "# features = ['NOx', 'CO', 'OH', 'H2', 'H2O', 'CO2', 'O2', 'CH4', 'T']\n",
    "limit_min = np.array([0., 0., 0., 0., 0., 0., 0., 0., 200.])\n",
    "limit_max = np.array([1., 1., 1., 1., 1., 1., 1., 1., 3000.])\n",
    "\n",
    "# Fit the model and predict the low-dim vector (ap) and the high-dim solution (xp)\n",
    "spr.train(C_qr, method='COLS', limits=[limit_min, limit_max], verbose=True, abstol=1e-2)\n",
    "Ap, Ap_sigma = spr.predict(y_qr)\n",
    "Xp_test = spr.reconstruct(Ap)\n",
    "\n",
    "# Select the feature to plot\n",
    "str_ind = 'OH'\n",
    "ind = features.index(str_ind)\n",
    "\n",
    "x_test = X_test[ind*n_cells:(ind+1)*n_cells, 3]\n",
    "xp_test = Xp_test[ind*n_cells:(ind+1)*n_cells, 0]\n",
    "\n",
    "plot_comparison(plane, [x_test, xp_test], str_ind)"
   ]
  },
  {
   "cell_type": "markdown",
   "id": "b50c014b",
   "metadata": {},
   "source": [
    "The quality of the model depends also on the choice of the scaling method. The scaling methods implemented are: `'std'`, `'none'`, `'pareto'`, `'vast'`, `'range'`, `'level'`, `'max'`, `'variance'`, `'median'`, `'poisson'`, `'vast_2'`, `'vast_3'`, `'vast_4'`, `'l2-norm'`. Their mathematical definition is reported in [7](https://pcafold.readthedocs.io/en/latest/user/data-preprocessing.html)."
   ]
  },
  {
   "cell_type": "code",
   "execution_count": 20,
   "id": "3a22474e",
   "metadata": {},
   "outputs": [
    {
     "data": {
      "image/png": "[encoded data removed]",
      "text/plain": [
       "<Figure size 388.8x432 with 3 Axes>"
      ]
     },
     "metadata": {
      "needs_background": "light"
     },
     "output_type": "display_data"
    }
   ],
   "source": [
    "scale_type = 'range'\n",
    "C_qr = spr.optimal_placement(select_modes='number', n_modes=n_sensors, scale_type=scale_type)\n",
    "y_qr = np.zeros((n_sensors,3))\n",
    "y_qr[:,0] = C_qr @ X_test[:,3]\n",
    "\n",
    "for i in range(n_sensors):\n",
    "    y_qr[i,2] = np.argmax(C_qr[i,:]) // n_cells\n",
    "\n",
    "spr.fit(scale_type=scale_type)\n",
    "spr.train(C_qr)\n",
    "Ap, Ap_sigma = spr.predict(y_qr)\n",
    "Xp_test = spr.reconstruct(Ap)\n",
    "\n",
    "str_ind = 'OH'\n",
    "ind = features.index(str_ind)\n",
    "\n",
    "x_test = X_test[ind*n_cells:(ind+1)*n_cells, 3]\n",
    "xp_test = Xp_test[ind*n_cells:(ind+1)*n_cells, 0]\n",
    "\n",
    "plot_comparison(plane, [x_test, xp_test], str_ind)"
   ]
  }
 ],
 "metadata": {
  "kernelspec": {
   "display_name": "Python 3",
   "language": "python",
   "name": "python3"
  },
  "language_info": {
   "codemirror_mode": {
    "name": "ipython",
    "version": 3
   },
   "file_extension": ".py",
   "mimetype": "text/x-python",
   "name": "python",
   "nbconvert_exporter": "python",
   "pygments_lexer": "ipython3",
   "version": "3.9.16"
  }
 },
 "nbformat": 4,
 "nbformat_minor": 5
}
