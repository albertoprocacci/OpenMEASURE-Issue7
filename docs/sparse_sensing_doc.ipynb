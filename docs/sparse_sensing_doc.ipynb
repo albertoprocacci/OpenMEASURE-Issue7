{
 "cells": [
  {
   "cell_type": "markdown",
   "id": "d85f85a6",
   "metadata": {},
   "source": [
    "# Sparse sensing documentation\n",
    "\n",
    "## Mathematical theory\n",
    "\n",
    "The fundamental intuition behind the concept of sparse sensing is that a great number of physical phenomena admit a sparse representation in some alternative basis [1](https://doi.org/10.1017/9781108380690). The intrinsic sparsity of a physical phenomenon also means that it is possible to dramatically decrease the amount of measurements without losing important information on the system [2](https://doi.org/10.48550/arXiv.math/0410542).\n",
    "\n",
    "\n",
    "The goal of a Sensor Placement for Reconstruction (SPR) model is to find the solution of the following linear system:\n",
    "\n",
    "\\begin{equation}\n",
    "    \\tag{1}\n",
    "\t\\mathbf{y} = \\mathbf{C} \\mathbf{x}\n",
    "\t\\label{y_Cx}\n",
    "\\end{equation}\n",
    "\n",
    "where $\\mathbf{y} \\subset \\mathbb{R}^s$ is the measurement vector, $\\mathbf{x} \\subset \\mathbb{R}^n$ represents the state of the system and $\\mathbf{C} \\subset \\mathbb{R}^{s,n}$ is the measurement matrix. \n",
    "\n",
    "\n",
    "The objective is to minimize the amount of sensors needed, that is $ n \\gg s$, which means that the matrix $ \\mathbf{C} $ is not invertible and the linear system admits infinite solutions.  Moreover, the linear problem in Eq. (\\ref{y_Cx}) is generally ill-conditioned. As a result, linear methods such as least-squares regression cannot be applied to find an acceptable solution.\n",
    "\n",
    "\n",
    "However, if the system admits a sparse representation in a new basis, we can consider that $ \\mathbf{x} \\approx \\mathbf{U}_{q} \\mathbf{a}_q$ where $\\mathbf{U}_q \\subset \\mathbb{R}^{n,q}$ represents the $q$-order truncation of the transforming basis and $\\mathbf{a}_q$ is the projection of $\\mathbf{x}$ onto the new truncated basis.\n",
    "\n",
    "\n",
    "Depending on the system considered, a different number of decomposition techniques can be applied to recover the new basis from the data. An obvious choice is to use the Proper Orthogonal Decomposition (POD) [3](https://doi.org/10.1146/annurev.fl.25.010193.002543), also known as Principal Component Analysis (PCA) or Karhunen-Loeve transform (KLT), because it guarantees that the $q$-order truncation is the one that minimizes the $l_2$ norm reconstruction error. The POD can be achieved by applying the Singular Value Decomposition (SVD) to the dataset:\n",
    "\n",
    "\n",
    "\\begin{equation}\n",
    "\t\\mathbf{X} = \\mathbf{U} \\mathrm{\\boldsymbol{\\Sigma}} \\mathbf{V}^T\n",
    "    \\label{eq_SVD}\n",
    "\\end{equation}\n",
    "\n",
    "\n",
    "where $\\mathbf{X} \\subset \\mathbb{R}^{n,p}$ represents the data matrix to be decomposed, $\\mathbf{U} \\subset \\mathbb{R}^{n,p}$ and $\\mathbf{V} \\subset \\mathbb{R}^{p,p}$ are matrices which form an orthonormal basis for the column and row spaces of $\\mathbf{X}$, and $\\mathrm{\\boldsymbol{\\Sigma}} \\subset \\mathbb{R}^{p,p}$ is the diagonal matrix which contains the singular values of $\\mathbf{X}$. The singular values are the square root of the eigenvalues of the correlation matrix $\\mathbf{S} = \\mathbf{X}^T \\mathbf{X}$, and they express the amount of variance that each column (mode) of $\\mathbf{U}$ is able to capture with respect to the original data matrix.  \n",
    "\n",
    "\n",
    "If we assemble $p$ vectors $\\mathbf{x}$ as column vectors of a data matrix $\\mathbf{X}$, we can then use the SVD to find the transforming basis $\\mathbf{U}_q$ by discarding the last $p-q$ columns of $\\mathbf{U}$. \n",
    "\n",
    "\n",
    "By introducing $ \\mathbf{x} = \\mathbf{U}_{q} \\mathbf{a}_q$, the linear system in Eq. (\\ref{y_Cx}) can then be written as:\n",
    "\n",
    "\\begin{equation}\n",
    "    \\tag{2}\n",
    "\t\\mathbf{y} = \\mathrm{\\boldsymbol{\\Theta}} \\mathbf{a}_q\n",
    "    \\label{y_thetax}\n",
    "\\end{equation}\n",
    "\n",
    "where $ \\mathrm{\\boldsymbol{\\Theta}} = \\mathbf{C} \\mathbf{U}_q$. In order to find a solution for Eq. (\\ref{y_thetax}), the matrix $\\mathbf{C}$ has to be constructed such that $\\mathrm{\\boldsymbol{\\Theta}}$ is as well-conditioned as possible. This objective can be reached by making sure that $\\mathbf{C}$ is incoherent with respect to $\\mathbf{U}_q$, which means that the rows of $\\mathbf{C}$ should not be correlated with the columns of  $\\mathbf{U}_q$ [4](https://doi.org/10.1109/MSP.2007.914731). \n",
    "\n",
    "### Optimal placement using QR decomposition with column pivoting\n",
    "A popular approach to construct the measurement matrix is to use random sampling. This technique is computationally inexpensive, and a random measurement has a high probability of being incoherent with respect to the transforming basis [4](https://doi.org/10.1109/MSP.2007.914731). However, this technique does not produce an optimized placement of sensors, thus the number of sensors required is far from the theoretical minimum.\n",
    "\n",
    "\n",
    "Another technique to construct the measurement matrix is to select the sensors' position based on the QR decomposition with column pivoting (QRCP) [5](https://doi.org/10.1109/MCS.2018.2810460). The QRCP is a decomposition technique in which a matrix $\\mathbf{A}\\subset \\mathbb{R}^{q,n}$ is factorized into an orthogonal matrix $\\mathbf{Q} \\subset \\mathbb{R}^{q,q}$ and an upper rectangular matrix $\\mathbf{R}\\subset \\mathbb{R}^{q,n}$:\n",
    "\n",
    "\\begin{equation}\n",
    "\t\\mathbf{A}\\mathbf{P} = \\mathbf{Q}\\mathbf{R}\n",
    "\\end{equation}\n",
    "\n",
    "The matrix $\\mathbf{P}$ is a permutation matrix which is chosen so that the diagonal elements of $\\mathbf{R}$ are not increasing. QRCP is usually employed as a rank revealing method. In our case, the pivots are used to construct the measurement matrix from the transforming basis:\n",
    "\n",
    "\\begin{equation}\n",
    "\t\\mathbf{U}_q^T \\mathbf{C}^T = \\mathbf{Q}\\mathbf{R}\n",
    "    \\label{optimal_C}\n",
    "\\end{equation}\n",
    "\n",
    "The QRCP is able to provide $q$ sensors which best sample the transforming basis $\\mathbf{U}_q$. \n",
    "\n",
    "\n",
    "### Optimal placement using the greedy entropy maximization algorithm\n",
    "\n",
    "The optimal placement problem can be defined as finding the set of sensors that convey the maximum amount of information on the transforming basis $\\mathbf{U}_q$. \n",
    "\n",
    "In the context of information theory, the information content associated with an event $X = x$, where $X$ represents a random variable and $x$ a specific value assumed by $X$, is defined as:\n",
    "\n",
    "\\begin{equation}\n",
    "    I(X=x) = -\\log p(x)\n",
    "\\end{equation}\n",
    "\n",
    "\n",
    "From this, the expected information content (entropy) of a random variable $X$ is equal to:\n",
    "\n",
    "\\begin{equation}\n",
    "\tH(X) = -\\sum_{x} p(x) \\log p(x)\n",
    "\\end{equation}\n",
    "\n",
    "Our goal is then to find the set of $n$ sensors that maximize the joint entropy:\n",
    "\n",
    "\\begin{equation}\n",
    "    H(X_1, X_2, \\dots, X_n) = - \\sum_{x_n} \\dots \\sum_{x_2}\\sum_{x_1} p(x_1, x_2, \\dots, x_n) \\log p(x_1, x_2, \\dots, x_n)\n",
    "\\end{equation}\n",
    "\n",
    "However, there are a couple of problems associated with this goal. The first is that to find the maximum joint entropy we need to perform a combinatorial search through the all possible set of $n$ sensors, which is infeasible. The second problem is that we need a way to represent the joint probability from the data at hand. \n",
    "\n",
    "\n",
    "The first problem is solved by applying a greedy maximization algorithm. This means that the algorithm searches first the sensor associated with the maximum entropy. Then, the second sensor is selected as the one that maximizes the entropy of the joint distribution with the first sensor. The search is continued until we reach the desired number of sensors.\n",
    "\n",
    "The second problem is tackled by approximating the joint probability distribution as a joint gaussian distribution [6](http://jmlr.org/papers/v9/krause08a.html).  The gaussian approximation allows us to compute the differential conditional entropy of the joint gaussian distribution :\n",
    "\n",
    "\\begin{equation}\n",
    "    H(y|A) = \\frac{1}{2} \\log \\sigma^2_{y|A} + \\frac{1}{2}(\\log(2 \\pi) + 1)\n",
    "\\end{equation}\n",
    "\n",
    "\\begin{equation}\n",
    "    \\sigma^2_{y | A} = \\sigma^2_{y} - \\Sigma_{yA} \\Sigma_{AA}^{-1} \\Sigma_{Ay}\n",
    "\\end{equation}\n",
    "\n",
    "where the subscripts $A$ and $y$ denotes the set of sensors already selected and the sensor to add. If $\\Sigma$ is the covariance matrix of the set containing $A$ and $y$, then:\n",
    "\n",
    "\\begin{equation}\n",
    "    \\Sigma = \n",
    "    \\begin{bmatrix}\n",
    "        \\Sigma_{AA} & \\Sigma_{Ay} \\\\\n",
    "        \\Sigma_{yA} &  \\sigma^2_{y}\n",
    "    \\end{bmatrix}\n",
    "\\end{equation}\n",
    "\n",
    "\n",
    "### Prediction using Ordinary Least Squares and Constrained Ordinary Least Squares\n",
    "\n",
    "The linear system in Eq. \\ref{y_thetax} can be solved using Ordinary Least Squares (OLS). This is equivalent to find the solution $\\mathbf{a}^*$ that minimizes the $l_2$ norm distance:\n",
    "\n",
    "\\begin{equation}\n",
    "    \\mathbf{a}^* = \\underset{\\mathbf{a}}{\\mathrm{argmin}} || \\mathbf{y} - \\boldsymbol{\\Theta} \\mathbf{a}||_2\n",
    "\\end{equation}\n",
    "\n",
    "If the data matrix contains only thermo-chemical features (temperature and species mass fractions), we also know that the solution has to be positive everywhere. This constraint can be introduced while solving the linear system: \n",
    "\n",
    "\n",
    "\\begin{align}\n",
    "\\mathbf{a}^* = \\underset{\\mathbf{a}}{\\textrm{argmin}}  & \\  || \\mathbf{y} - \\boldsymbol{\\Theta} \\mathbf{a}||_2 \\\\\n",
    "\\textrm{s.t.}  & \\  \\mathbf{U}_r \\mathbf{a} > 0\n",
    "\\end{align}\n"
   ]
  },
  {
   "cell_type": "markdown",
   "id": "35c8cb09",
   "metadata": {},
   "source": [
    "## Example\n",
    "\n",
    "The first cell is used to import the packages and the dataset, plus some utilities for plotting"
   ]
  },
  {
   "cell_type": "code",
   "execution_count": 3,
   "id": "83b5b1df",
   "metadata": {},
   "outputs": [],
   "source": [
    "import numpy as np\n",
    "from gpr import GPR\n",
    "from sparse_sensing import SPR\n",
    "import matplotlib as mpl\n",
    "import matplotlib.pyplot as plt\n",
    "import matplotlib.tri as tri\n",
    "\n",
    "path = '../data/ROM/'\n",
    "\n",
    "# This is a n x m matrix where n = 165258 is the number of cells times the number of features\n",
    "# and m = 41 is the number of simulations.\n",
    "X_train = np.load(path + 'X_2D_train.npy')\n",
    "\n",
    "# This is a n x 4 matrix containing the 4 testing simulations\n",
    "X_test = np.load(path + 'X_2D_test.npy')\n",
    "\n",
    "features = ['T', 'CH4', 'O2', 'CO2', 'H2O', 'H2', 'OH', 'CO', 'NOx']\n",
    "n_features = len(features)\n",
    "\n",
    "# This is the file containing the x,z positions of the cells\n",
    "xz = np.load(path + 'xz.npy')\n",
    "xyz = np.zeros((xz.shape[0], 3))\n",
    "xyz[:,0] = xz[:,0]\n",
    "xyz[:,2] = xz[:,1]\n",
    "n_cells = xz.shape[0]\n",
    "\n",
    "# This reads the files containing the parameters (D, H2, phi) with which \n",
    "# the simulation were computed\n",
    "P_train = np.genfromtxt(path + 'parameters_train.csv', delimiter=',', skip_header=1)\n",
    "P_test = np.genfromtxt(path + 'parameters_test.csv', delimiter=',', skip_header=1)\n",
    "\n",
    "# Load the outline the mesh (for plotting)\n",
    "mesh_outline = np.genfromtxt(path + 'mesh_outline.csv', delimiter=',', skip_header=1)\n",
    "\n",
    "#---------------------------------Plotting utilities--------------------------------------------------\n",
    "def sample_cmap(x):\n",
    "    return plt.cm.jet((np.clip(x,0,1)))\n",
    "\n",
    "def plot_sensors(xz_sensors, features, mesh_outline):\n",
    "    fig, ax = plt.subplots(figsize=(4, 4))\n",
    "    ax.plot(mesh_outline[:,0], mesh_outline[:,1], c='k', lw=0.5, zorder=1)\n",
    "    \n",
    "    features_unique = np.unique(xz_sensors[:,2])\n",
    "    colors = np.zeros((features_unique.size,4))\n",
    "    for i in range(colors.shape[0]):\n",
    "        colors[i,:] = sample_cmap(features_unique[i]/len(features))\n",
    "        \n",
    "    for i, f in enumerate(features_unique):\n",
    "        mask = xz_sensors[:,2] == f\n",
    "        ax.scatter(xz_sensors[:,0][mask], xz_sensors[:,1][mask], color=colors[i,:], \n",
    "                   marker='x', s=15, lw=0.5, label=features[int(f)], zorder=2)\n",
    "\n",
    "    \n",
    "    ax.set_xlabel('$x (\\mathrm{m})$', fontsize=8)\n",
    "    ax.set_ylabel('$z (\\mathrm{m})$', fontsize=8)\n",
    "    eps = 1e-2\n",
    "    ax.set_xlim(-eps, 0.35)\n",
    "    ax.set_ylim(-0.15,0.7+eps)\n",
    "    ax.set_aspect('equal')\n",
    "    ax.legend(fontsize=8, frameon=False, loc='center right')\n",
    "    ax.xaxis.tick_top()\n",
    "    ax.xaxis.set_label_position('top')\n",
    "    wid = 0.3\n",
    "    ax.xaxis.set_tick_params(width=wid)\n",
    "    ax.yaxis.set_tick_params(width=wid)\n",
    "    ax.set_xticks([0., 0.18, 0.35])\n",
    "    ax.tick_params(axis='both', which='major', labelsize=8)\n",
    "    ax.spines['top'].set_visible(False)\n",
    "    ax.spines['right'].set_visible(False)\n",
    "    ax.spines['bottom'].set_visible(False)\n",
    "    ax.spines['left'].set_visible(False)\n",
    "    \n",
    "    plt.show()\n",
    "\n",
    "def plot_contours_tri(x, y, zs, cbar_label=''):\n",
    "    triang = tri.Triangulation(x, y)\n",
    "    triang_mirror = tri.Triangulation(-x, y)\n",
    "\n",
    "    fig, axs = plt.subplots(nrows=1, ncols=2, figsize=(6,6))\n",
    "    \n",
    "    z_min = np.min(zs)\n",
    "    z_max = np.max(zs)\n",
    "   \n",
    "    n_levels = 12\n",
    "    levels = np.linspace(z_min, z_max, n_levels)\n",
    "    cmap_name= 'inferno'\n",
    "    titles=['Original CFD','Predicted']\n",
    "    \n",
    "    for i, ax in enumerate(axs):\n",
    "        if i == 0:\n",
    "            ax.tricontourf(triang_mirror, zs[i], levels, vmin=z_min, vmax=z_max, cmap=cmap_name)\n",
    "        else:\n",
    "            ax.tricontourf(triang, zs[i], levels, vmin=z_min, vmax=z_max, cmap=cmap_name)\n",
    "            ax.tick_params(axis='y', which='both', left=False, right=False, labelleft=False) \n",
    "        \n",
    "        ax.set_aspect('equal')\n",
    "        ax.set_title(titles[i])\n",
    "        ax.set_xlabel('$x (\\mathrm{m})$')\n",
    "        if i == 0:\n",
    "            ax.set_ylabel('$z (\\mathrm{m})$')\n",
    "    \n",
    "    fig.subplots_adjust(bottom=0., top=1., left=0., right=0.85, wspace=0.02, hspace=0.02)\n",
    "    start = axs[1].get_position().bounds[1]\n",
    "    height = axs[1].get_position().bounds[3]\n",
    "    \n",
    "    cb_ax = fig.add_axes([0.9, start, 0.05, height])\n",
    "    cmap = mpl.cm.get_cmap(cmap_name, n_levels)\n",
    "    norm = mpl.colors.Normalize(vmin=z_min, vmax=z_max)\n",
    "    \n",
    "    fig.colorbar(mpl.cm.ScalarMappable(norm=norm, cmap=cmap), cax=cb_ax, \n",
    "                orientation='vertical', label=cbar_label)\n",
    "    \n",
    "    plt.show()\n"
   ]
  },
  {
   "cell_type": "markdown",
   "id": "3caf9266",
   "metadata": {},
   "source": [
    "## Optimal sensor placement\n",
    "\n",
    "In this cell, we use the function `optimal_placement()` to compute the optimal sensor placement matrix C using the QRCP algorithm."
   ]
  },
  {
   "cell_type": "code",
   "execution_count": 4,
   "id": "b644abb9",
   "metadata": {},
   "outputs": [
    {
     "data": {
      "image/png": "[encoded data removed]",
      "text/plain": [
       "<Figure size 288x288 with 1 Axes>"
      ]
     },
     "metadata": {
      "needs_background": "light"
     },
     "output_type": "display_data"
    }
   ],
   "source": [
    "spr = SPR(X_train, n_features, xyz) # Create the spr object\n",
    "\n",
    "# Compute the optimal measurement matrix using qr decomposition\n",
    "n_sensors = 14\n",
    "C_qr = spr.optimal_placement(select_modes='number', n_modes=n_sensors)\n",
    "\n",
    "# Get the sensors positions and features\n",
    "xz_sensors = np.zeros((n_sensors, 4))\n",
    "for i in range(n_sensors):\n",
    "    index = np.argmax(C_qr[i,:])\n",
    "    xz_sensors[i,:2] = xz[index % n_cells, :]\n",
    "    xz_sensors[i,2] = index // n_cells\n",
    "\n",
    "plot_sensors(xz_sensors, features, mesh_outline)\n",
    "\n"
   ]
  },
  {
   "cell_type": "markdown",
   "id": "1c508dd8",
   "metadata": {},
   "source": [
    "In this cell, we use the same function `optimal_placement()` but we employ the greedy entropy maximization algorithm to find the optimal sensors."
   ]
  },
  {
   "cell_type": "code",
   "execution_count": 5,
   "id": "34ec8403",
   "metadata": {},
   "outputs": [
    {
     "name": "stdout",
     "output_type": "stream",
     "text": [
      "---------------------------------------------------------------------- \n",
      " # sensors  sigma^2 y  sigma^2 y|a    Htot    \n",
      " \n",
      "    1       4.00e+00       -          -    \n",
      "    2       3.79e+00   3.76e+00   2.08e+00 \n",
      "    3       2.91e+00   2.79e+00   4.01e+00 \n",
      "    4       2.03e+00   1.98e+00   5.77e+00 \n",
      "    5       1.89e+00   1.49e+00   7.39e+00 \n",
      "    6       1.38e+00   1.06e+00   8.84e+00 \n",
      "    7       1.94e+00   1.03e+00   1.03e+01 \n",
      "    8       1.27e+00   9.71e-01   1.17e+01 \n",
      "    9       6.39e-01   4.15e-01   1.27e+01 \n",
      "    10      5.42e-01   2.44e-01   1.34e+01 \n",
      "    11      2.60e-01   2.24e-01   1.40e+01 \n",
      "    12      6.00e-01   1.48e-01   1.45e+01 \n",
      "    13      1.91e+00   3.07e-05   1.07e+01 \n",
      "    14      3.13e-01   1.78e-05   6.68e+00 \n"
     ]
    },
    {
     "data": {
      "image/png": "[encoded data removed]",
      "text/plain": [
       "<Figure size 288x288 with 1 Axes>"
      ]
     },
     "metadata": {
      "needs_background": "light"
     },
     "output_type": "display_data"
    }
   ],
   "source": [
    "# Compute the optimal measurement matrix using gem decomposition\n",
    "n_sensors = 14\n",
    "C_gem = spr.optimal_placement(calc_type='gem', n_sensors=n_sensors, n_modes=99.5, verbose=True)\n",
    "\n",
    "# Get the sensors positions and features\n",
    "xz_sensors = np.zeros((n_sensors, 4))\n",
    "for i in range(n_sensors):\n",
    "    index = np.argmax(C_gem[i,:])\n",
    "    xz_sensors[i,:2] = xz[index % n_cells, :]\n",
    "    xz_sensors[i,2] = index // n_cells\n",
    "\n",
    "plot_sensors(xz_sensors, features, mesh_outline)"
   ]
  },
  {
   "cell_type": "markdown",
   "id": "f17e9ef4",
   "metadata": {},
   "source": [
    "The placement and choice of sensors is similar to the QRCP choice. However, the advantage of the GEM algorithm is that we can select an arbitrary number of sensors, and we can enforce the minimum distance between them. In the next cell we use the GEM algorithm to find the optimal set of 20 sensor spaced at least 5 cm apart."
   ]
  },
  {
   "cell_type": "code",
   "execution_count": 6,
   "id": "67c9eeb0",
   "metadata": {},
   "outputs": [
    {
     "name": "stdout",
     "output_type": "stream",
     "text": [
      "---------------------------------------------------------------------- \n",
      " # sensors  sigma^2 y  sigma^2 y|a    Htot    \n",
      " \n",
      "    1       4.00e+00       -          -    \n",
      "    2       2.88e+00   2.74e+00   1.92e+00 \n",
      "    3       2.03e+00   2.00e+00   3.69e+00 \n",
      "    4       1.11e+00   9.96e-01   5.10e+00 \n",
      "    5       7.86e-01   6.70e-01   6.32e+00 \n",
      "    6       3.13e-01   2.91e-01   7.13e+00 \n",
      "    7       2.60e-01   2.27e-01   7.80e+00 \n",
      "    8       5.01e-01   2.12e-01   8.45e+00 \n",
      "    9       1.22e-01   3.19e-02   8.14e+00 \n",
      "    10      1.57e-02   1.06e-02   7.29e+00 \n",
      "    11      2.15e-02   8.58e-03   6.33e+00 \n",
      "    12      8.15e-02   2.41e-03   4.73e+00 \n",
      "    13      1.92e-02   1.95e-05   7.30e-01 \n",
      "    14      7.84e-02   7.78e-06  -3.73e+00 \n",
      "    15      1.90e-02   7.55e-06  -8.21e+00 \n",
      "    16      1.26e-02   6.58e-06  -1.28e+01 \n",
      "    17      1.70e-01   6.25e-06  -1.73e+01 \n",
      "    18      1.94e-02   5.91e-06  -2.19e+01 \n",
      "    19      1.54e-02   5.39e-06  -2.66e+01 \n",
      "    20      1.41e-02   4.39e-06  -3.13e+01 \n"
     ]
    },
    {
     "data": {
      "image/png": "[encoded data removed]",
      "text/plain": [
       "<Figure size 288x288 with 1 Axes>"
      ]
     },
     "metadata": {
      "needs_background": "light"
     },
     "output_type": "display_data"
    }
   ],
   "source": [
    "C_gem = spr.optimal_placement(calc_type='gem', n_sensors=20, d_min=0.05, n_modes=99.5, verbose=True)\n",
    "\n",
    "# Get the sensors positions and features\n",
    "xz_sensors = np.zeros((n_sensors, 4))\n",
    "for i in range(n_sensors):\n",
    "    index = np.argmax(C_gem[i,:])\n",
    "    xz_sensors[i,:2] = xz[index % n_cells, :]\n",
    "    xz_sensors[i,2] = index // n_cells\n",
    "\n",
    "plot_sensors(xz_sensors, features, mesh_outline)"
   ]
  },
  {
   "cell_type": "markdown",
   "id": "f4ce49e6",
   "metadata": {},
   "source": [
    "## Sparse Placement for Reconstruction\n",
    "\n",
    "In this cell, we use the C matrix to sample a test case, then we use the `SPR()` function to predict the state of the system given few (14) measurements. "
   ]
  },
  {
   "cell_type": "code",
   "execution_count": 7,
   "id": "a7ac89ad",
   "metadata": {
    "scrolled": true
   },
   "outputs": [
    {
     "data": {
      "image/png": "[encoded data removed]",
      "text/plain": [
       "<Figure size 432x432 with 3 Axes>"
      ]
     },
     "metadata": {
      "needs_background": "light"
     },
     "output_type": "display_data"
    }
   ],
   "source": [
    "# Sample a test simulation using the optimal qr matrix\n",
    "y_qr = np.zeros((n_sensors,2))\n",
    "y_qr[:,0] = C_qr @ X_test[:,3]\n",
    "\n",
    "for i in range(n_sensors):\n",
    "    y_qr[i,1] = np.argmax(C_qr[i,:]) // n_cells\n",
    "\n",
    "# Fit the model and predict the low-dim vector (ap) and the high-dim solution (xp)\n",
    "ap, xp = spr.fit_predict(C_qr, y_qr)\n",
    "\n",
    "# Select the feature to plot\n",
    "str_ind = 'OH'\n",
    "ind = features.index(str_ind)\n",
    "\n",
    "plot_contours_tri(xz[:,0], xz[:,1], [X_test[ind*n_cells:(ind+1)*n_cells, 3], \n",
    "                xp[ind*n_cells:(ind+1)*n_cells]], cbar_label=str_ind)"
   ]
  },
  {
   "cell_type": "markdown",
   "id": "412a716f",
   "metadata": {},
   "source": [
    "We can improve the prediction by enforcing the costraint that $\\mathbf{x} > 0 $ everywhere. This is done by using the `'COLS'` method."
   ]
  },
  {
   "cell_type": "code",
   "execution_count": 9,
   "id": "5b39a17e",
   "metadata": {},
   "outputs": [
    {
     "data": {
      "image/png": "[encoded data removed]",
      "text/plain": [
       "<Figure size 432x432 with 3 Axes>"
      ]
     },
     "metadata": {
      "needs_background": "light"
     },
     "output_type": "display_data"
    }
   ],
   "source": [
    "# Fit the model and predict the low-dim vector (ap) and the high-dim solution (xp)\n",
    "ap, xp = spr.fit_predict(C_qr, y_qr, method='COLS')\n",
    "\n",
    "# Select the feature to plot\n",
    "str_ind = 'OH'\n",
    "ind = features.index(str_ind)\n",
    "\n",
    "plot_contours_tri(xz[:,0], xz[:,1], [X_test[ind*n_cells:(ind+1)*n_cells, 3], \n",
    "                xp[ind*n_cells:(ind+1)*n_cells]], cbar_label=str_ind)"
   ]
  },
  {
   "cell_type": "code",
   "execution_count": null,
   "id": "31931d91",
   "metadata": {},
   "outputs": [],
   "source": []
  }
 ],
 "metadata": {
  "kernelspec": {
   "display_name": "Python 3",
   "language": "python",
   "name": "python3"
  },
  "language_info": {
   "codemirror_mode": {
    "name": "ipython",
    "version": 3
   },
   "file_extension": ".py",
   "mimetype": "text/x-python",
   "name": "python",
   "nbconvert_exporter": "python",
   "pygments_lexer": "ipython3",
   "version": "3.7.9"
  }
 },
 "nbformat": 4,
 "nbformat_minor": 5
}
